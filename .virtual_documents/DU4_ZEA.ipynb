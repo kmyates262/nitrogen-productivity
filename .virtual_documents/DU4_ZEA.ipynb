





## Import libraries
import numpy as np
import scipy.integrate as integrate
import time
import csv
import pandas as pd
import matplotlib.pyplot as plt
import matplotlib.ticker as ticker

## Ignore dumb warnings. We are adults. We take our chances
import warnings
warnings.filterwarnings('ignore')

# Make plots look good according to KY
import matplotlib.style as style
plt.rcParams.update(plt.rcParamsDefault)
style.use('seaborn-poster')
plt.rcParams['figure.dpi'] = 300

plt.rcParams.update(plt.rcParamsDefault)

'''
Fonts
'''
plt_font_size = 36
lgd_font_size = 24
plt.rcParams['font.family'] = "TeX Gyre Termes"
#plt.rc('font', **{'family' : 'sans-serif', 'sans-serif' : ['Myriad Pro']})
plt.rcParams['font.size'] = plt_font_size
plt.rcParams['axes.labelsize'] = plt_font_size
plt.rcParams['axes.titlesize'] = plt_font_size
plt.rcParams['xtick.labelsize'] = plt_font_size
plt.rcParams['ytick.labelsize'] = plt_font_size
plt.rcParams['legend.fontsize'] = lgd_font_size

'''
Lines
'''
plt.rcParams['lines.linewidth'] = 3
plt.rcParams['lines.markeredgewidth'] = 3
plt.rcParams['errorbar.capsize'] = 5
plt.rcParams['axes.linewidth'] = 2
plt.rcParams['xtick.major.size'] = 10
plt.rcParams['xtick.major.width'] = 3
plt.rcParams['xtick.minor.size'] = 5
plt.rcParams['xtick.minor.width'] = 3
plt.rcParams['ytick.major.size'] = 10
plt.rcParams['ytick.major.width'] = 3
plt.rcParams['ytick.minor.size'] = 5
plt.rcParams['ytick.minor.width'] = 3
plt.rcParams['axes.spines.top'] = False
plt.rcParams['axes.spines.right'] = False

'''
LaTeX
'''
plt.rcParams['text.usetex'] = True
plt.rcParams['text.latex.preamble'] = '\n'.join([
    r'\usepackage[T3,T1]{fontenc}',
    r'\DeclareSymbolFont{tipa}{T3}{cmr}{m}{n}',
    r'\DeclareMathAccent{\invbreve}{\mathalpha}{tipa}{16}',
    r'\usepackage{siunitx}'
])  # Preamble must be one line!

data_path = "./zea-data/"


from DU4 import *


def mec_model(t, y, crop, CO2, PPF):
    '''
    Differential equation model. 
    :param t: time in days after emergence
    :type t: float
    :param y: model variable
    :type y: model variable
    :param crop: crop object
    :type crop: object
    :param CO2: atmospheric concentration of carbon dioxide in [umol_CO2/mol_air]
    :type CO2: float
    :param PPF: photosynthetic photon flux in [umol_photon / (m^2 * s)]
    :type PPF: float
    :return: dydt
    :rtype: array
    '''

    ## Set state variables
    # B = y[0]
    # O2 = y[1]
    # H2O = y[2]
    Neq = len(y)

    ## Prepare dydt array
    dydt = np.zeros((1, Neq))

    ## Define dydt
    dydt[0, 0] = calc_m_B(t, crop, CO2, PPF)
    dydt[0, 1] = calc_n_O2(t, crop, CO2, PPF)
    # dydt[0,2] = calc_transpiration(t,crop,CO2,PPF)
    dydt[0, 2] = calc_V_trs(t, crop, CO2, PPF) - calc_H2O_in(t, crop, CO2, PPF)
    # dydt[0,2] = -calc_H2O_in(t,crop,CO2,PPF) * crop.H2O_uptake

    # dydt[0,1] = calc_DOP(t,CO2,PPF,crop)

    return [np.transpose(dydt)]


## Define directory and locations
directory = 'parameter-lists/'
filename = 'crop_parameters_FPSD.xlsx'

## Load standard parameters from BVAD
filename_full = directory + filename

## Load the standard lettuce crop
crop_type = 'lettuce'
crop = Crop(crop_type, filename_full=filename_full)

#override harvest time
crop.t_M = 50

tspan =  [0, crop.t_M]
y0 = [0,0,50]
# Normal lettuce params are CO2=800, PPF=350. Lettuce PPF is [200,500].
# model's ranges are CO2=[330,1300] and PPF=[200,1000]. Rice and wheat can do PPF=2000.
CO2 = 525
PPF = 225

## Perform integration
start_time = time.time()
sol_MEC = integrate.solve_ivp(mec_model, tspan, y0, args=(crop,CO2,PPF), method='LSODA', max_step=1)
print("--- %s seconds ---" % (time.time() - start_time))

## Convert m_T to m_E (with lettuce t_E = 0)
# sol_MEC.y[0] *= crop.f_E

# single plot just for this
# fig, ax1 = plt.subplots(1, figsize=(10, 10))
# plt.plot(sol_MEC.t, sol_MEC.y[0],linewidth=4, color = 'Lime', label=r'Biomass [g/m$^{2}$]')
# # plt.plot(sol_MEC.t, sol_MEC.y[1],linewidth=4, color = 'b', label=r'O$_{2}$ [g/m$^{2}$]')
# # plt.plot(sol_MEC.t, sol_MEC.y[2],linewidth=4, color = 'k', label=r'H$_{2}$O [g/m$^{2}$]')
# plt.ylabel('Edible Biomass [\si{\gram\of{DW}\per\meter\squared}]')
# plt.xlabel('Time, t [d$_{\mathrm{AE}}$]')
# ax1.set_title('ODE MEC Model of Biomass Growth')
# # plt.legend()
# plt.tight_layout()
# plt.show()





class df_selection:
    """
    This class filters by N setting and then averages mass and finds SD
    
    Use when working only with mB
    """
    def __init__(self, df, var, setting):
        self.statted = df[df[var] == setting].groupby(time_label, as_index=False)[mass_label].agg([np.mean, np.std])
        
class df_n_selection:
    """
    This class only filters a DF by N setting
    """
    def __init__(self, df, var, setting):
        self.grouped = df[df[var] == setting]

global mass_label
mass_label = "mass_B"
global n_mass_label
n_mass_label = "mass_N"
global nitrogen_label 
nitrogen_label = "N_setting"
global time_label 
time_label = "dAE"

sigma_N_zea = 37.0278518 #Numerical density, from Zea, [3.44 ft_^-2 -> m^-2]
sigma_N_nasa = 19.2 #from BVAD, [N/m^-2]
sigma_N = sigma_N_nasa
water_cont = 0.95 #from BVAD & experiment
harvest_cutoff = 41 #for MEC; days AE
point_offset = 0.2 #avoid overlapping data points
point_offset_mec = 0.5 #avoid overlapping data points
'''>>>>> ASSUME EMERGENCE 2021/07/09 <<<<<'''
emerge_offset = -3 #Zea counts from planting day; we want emergence.
harvest_cutoff_zea = harvest_cutoff - emerge_offset

# hg_mB_color="DarkGreen"
# md_mB_color="Lime"
# lw_mB_color="#7fb600"

hg_mB_color="MidnightBlue"
md_mB_color="DodgerBlue"
lw_mB_color="SkyBlue"

hg_label="Excess N Condition (12.5 mM)"
md_label="Normal N Condition (7.5 mM)"
lw_label="Deficient N Condition (2.5 mM)"

time_xlabel = "Time, $t\ [\si{\day\of{AE}}]$"


'''
Figure: mB

We still calculate this one rather than reading from a file.
df_selection returns means and SDs

For now, let's only show this vs. MEC
'''
#read in the raw data
zea_df = pd.read_csv(data_path + 'zea_masses.csv')
zea_df = zea_df[zea_df["dAE"] <= harvest_cutoff_zea]

zea_df_m_hg = df_selection(zea_df, nitrogen_label, 1)
zea_df_m_md = df_selection(zea_df, nitrogen_label, 0)
zea_df_m_lw = df_selection(zea_df, nitrogen_label, -1)

# had to add this block because pandas started acting differently
zea_df_m_hg.statted = zea_df_m_hg.statted.set_index(['dAE'])
zea_df_m_md.statted = zea_df_m_md.statted.set_index(['dAE'])
zea_df_m_lw.statted = zea_df_m_lw.statted.set_index(['dAE'])

zea_df_m_hg.statted.index = zea_df_m_hg.statted.index + point_offset_mec + emerge_offset
zea_df_m_md.statted.index += emerge_offset
zea_df_m_lw.statted.index = zea_df_m_lw.statted.index - point_offset_mec + emerge_offset


'''
ax1=zea_df_m_hg.statted.plot(y="mean", yerr="std", label=hg_label, color=hg_mB_color)
zea_df_m_md.statted.plot(y="mean", yerr="std", label=md_label, ax=ax1, color=md_mB_color)
zea_df_m_lw.statted.plot(y="mean", yerr="std", label=lw_label, ax=ax1, color=lw_mB_color)
ax1.set_xlabel(time_xlabel)
ax1.set_ylabel("Fresh weight biomass, $m_\mathrm{B}\ [\si{\kilo\gram\of{FW}}]$")
plt.show()
'''

'''
Figure: mB->dwa data vs. MEC as per area DW. dwa = dry-weight-area
'''
mec_df = pd.DataFrame({'t': sol_MEC.t, 'mB': sol_MEC.y[0]})
mec_df = mec_df[(mec_df['t'] <= harvest_cutoff) & (mec_df['t'] >= 1)]

zea_df_dwa_hg = zea_df_m_hg.statted * sigma_N * (1 - water_cont)
zea_df_dwa_md = zea_df_m_md.statted * sigma_N * (1 - water_cont)
zea_df_dwa_lw = zea_df_m_lw.statted * sigma_N * (1 - water_cont)

# Figure
fig4, ax4 = plt.subplots(1, figsize=(10, 10))
ax4.set_box_aspect(1)

# Draw plots
mB_lnwt = 5
zea_df_dwa_hg.plot(y = "mean", yerr = "std", label=hg_label, color=hg_mB_color, style='-', ax=ax4, lw=mB_lnwt)
zea_df_dwa_md.plot(y = "mean", yerr = "std", label=md_label, color=md_mB_color, style='-', ax=ax4, lw=mB_lnwt)
zea_df_dwa_lw.plot(y = "mean", yerr = "std", label=lw_label, color=lw_mB_color, style='-', ax=ax4, lw=mB_lnwt)
mec_df.plot(x = 't', y = "mB", label = "Modified Energy Cascade", color="LimeGreen", style='--', ax=ax4, lw=mB_lnwt)

# Set axes
ax4.set_xlabel(time_xlabel)
# ax4.set_xlim(0, harvest_cutoff + 1)
# plt.xticks(np.arange(0, harvest_cutoff + 1, 5))
ax4.set_xlim(0.5,40.9)
ax4.xaxis.set_major_locator(ticker.MultipleLocator(5))
ax4.xaxis.set_minor_locator(ticker.MultipleLocator(1))

ax4.set_ylabel("Areal dry weight biomass, $\invbreve{m}_\mathrm{B}\ [\si{\gram\of{DW}\per\meter\squared}]$")
ax4.yaxis.set_minor_locator(ticker.MultipleLocator(10))

# Draw t_M box
ax4.axvspan(30, 35, color="#a5a5a5", alpha=0.25) # label="Harvesting Range"

# Legend
# handles, labels = plt.gca().get_legend_handles_labels()
# #order=[2,3,1,0]
# order=[1,2,3,0]
# plt.legend([handles[i] for i in order],[labels[i] for i in order], ncol=2, loc="lower center",  bbox_to_anchor=(0.5, -0.35))
ax4.get_legend().remove()

# Draw legend separately
handles, labels = plt.gca().get_legend_handles_labels()
order=[1,2,3,0]
fig4_l, ax4_l = plt.subplots()
ax4_l.axis(False)
ax4_l.legend([handles[i] for i in order],[labels[i] for i in order], loc="center", ncol=2)

plt.show()

fig4.savefig("./NP-images/MEC-vs-N.png", dpi=300, bbox_inches='tight', transparent=True)
fig4_l.savefig("./NP-images/MEC-legend.png", dpi=300, bbox_inches='tight', transparent=True)


'''
Figure: dmB/dt

We used to calculate this, but because of SDs, we read from a file.
'''
#zea_df_m_hg_d = zea_df_m_hg.statted["mean"].diff() / zea_df_m_hg.statted.index.to_series().diff()
#zea_df_m_md_d = zea_df_m_md.statted["mean"].diff() / zea_df_m_md.statted.index.to_series().diff()
#zea_df_m_lw_d = zea_df_m_lw.statted["mean"].diff() / zea_df_m_lw.statted.index.to_series().diff()

#ax2 = zea_df_m_hg_d.plot(label=hg_label, color=hg_color, style='.--')
#zea_df_m_md_d.plot(label=md_label, color=md_color, style='.--', ax=ax2)
#zea_df_m_lw_d.plot(label=lw_label, color=lw_color, style='.--', ax=ax2)

zea_dmbdt = pd.read_csv(data_path + 'zea_dmbdt.csv')
zea_dmbdt = zea_dmbdt[zea_dmbdt[time_label] <= harvest_cutoff_zea]
zea_dmbdt_hg = zea_dmbdt[zea_dmbdt[nitrogen_label] == 1]
zea_dmbdt_md = zea_dmbdt[zea_dmbdt[nitrogen_label] == 0]
zea_dmbdt_lw = zea_dmbdt[zea_dmbdt[nitrogen_label] == -1]

zea_dmbdt_hg[time_label] = zea_dmbdt_hg[time_label] + point_offset + emerge_offset
zea_dmbdt_md[time_label] += emerge_offset
zea_dmbdt_lw[time_label] = zea_dmbdt_lw[time_label] - point_offset + emerge_offset

# Figure
fig2, ax2 = plt.subplots(1, figsize=(10, 10))
ax2.set_box_aspect(1)

# Draw plots
dmBdt_lnwt = 5
zea_dmbdt_hg.plot(x=time_label, y="dmb/dt", yerr="SD", label=hg_label, color=hg_mB_color, ls=':', lw=dmBdt_lnwt, ax=ax2)
zea_dmbdt_md.plot(x=time_label, y="dmb/dt", yerr="SD", label=md_label, color=md_mB_color, ls=':', lw=dmBdt_lnwt, ax=ax2)
zea_dmbdt_lw.plot(x=time_label, y="dmb/dt", yerr="SD", label=lw_label, color=lw_mB_color, ls=':', lw=dmBdt_lnwt, ax=ax2)

# Set axes
ax2.set_xlabel(time_xlabel)
plt.xticks(np.arange(20, harvest_cutoff + 1, 5))
ax2.set_xlim(19.5,40.5)
ax2.xaxis.set_major_locator(ticker.MultipleLocator(5))
ax2.xaxis.set_minor_locator(ticker.MultipleLocator(1))

ax2.set_ylabel("Change in fresh weight biomass, $\dot{m}_\mathrm{B}\ [\si{\gram\of{FW}\per\day}]$")
ax2.yaxis.set_minor_locator(ticker.MultipleLocator(2.5))

# Draw t_M box
ax2.axvspan(30, 35, color="#a5a5a5", alpha=0.25) # label="Harvesting Range"

#Legend
plt.legend(ncol=2, loc="lower center",  bbox_to_anchor=(0.5, -0.35))

plt.show()

fig2.savefig("./NP-images/dmBdt.png", dpi=300, bbox_inches='tight', transparent=True)


'''
Figure: RGR

We used to calculate this, but because of SDs, we read from a file.

Here I use the Blackman calculation: RGR = (<ln(m2)> - <ln(m1)>)/(t2 – t1)
'''
#zea_df_rgr_hg = zea_df_m_hg.statted["mean"].diff() / zea_df_m_hg.statted.index.to_series().diff() / zea_df_m_hg.statted["mean"]
#zea_df_rgr_md = zea_df_m_md.statted["mean"].diff() / zea_df_m_md.statted.index.to_series().diff() / zea_df_m_md.statted["mean"]
#zea_df_rgr_lw = zea_df_m_lw.statted["mean"].diff() / zea_df_m_lw.statted.index.to_series().diff() / zea_df_m_lw.statted["mean"]

zea_rgr_df = pd.read_csv(data_path + 'zea_RGR.csv')
zea_rgr_df = zea_rgr_df[zea_rgr_df[time_label] <= harvest_cutoff_zea]
zea_rgr_hg = df_n_selection(zea_rgr_df, nitrogen_label, 1).grouped
zea_rgr_md = df_n_selection(zea_rgr_df, nitrogen_label, 0).grouped
zea_rgr_lw = df_n_selection(zea_rgr_df, nitrogen_label, -1).grouped

zea_rgr_hg[time_label] = zea_rgr_hg[time_label] + point_offset + emerge_offset
zea_rgr_md[time_label] += emerge_offset
zea_rgr_lw[time_label] = zea_rgr_lw[time_label] - point_offset + emerge_offset

# Figure
fig3, ax3 = plt.subplots(1, figsize=(10, 10))
ax3.set_box_aspect(1)

# Draw plots
rgr_lnwt = 5
zea_rgr_hg.plot(x=time_label, y="RGR", yerr="std_RGR", label=hg_label, color=hg_mB_color, ls='--', lw=rgr_lnwt, ax=ax3)
zea_rgr_md.plot(x=time_label, y="RGR", yerr="std_RGR", label=md_label, color=md_mB_color, ls='--', lw=rgr_lnwt, ax=ax3)
zea_rgr_lw.plot(x=time_label, y="RGR", yerr="std_RGR", label=lw_label, color=lw_mB_color, ls='--', lw=rgr_lnwt, ax=ax3)

# Set axes
ax3.set_xlabel(time_xlabel)
# plt.xticks(np.arange(20, harvest_cutoff + 1, 5))
ax3.set_xlim(19.5,40.5)
ax3.xaxis.set_major_locator(ticker.MultipleLocator(5))
ax3.xaxis.set_minor_locator(ticker.MultipleLocator(1))

ax3.set_ylabel("Relative Growth Rate, $[\si{\gram\of{DW}\per\day\per\gram\of{DW}}]$")
plt.yticks(np.arange(-0.1, 0.5, 0.1))
ax3.yaxis.set_minor_locator(ticker.MultipleLocator(0.05))

# Draw t_M box
ax3.axvspan(30, 35, color="#a5a5a5", alpha=0.25) # label="Harvesting Range"

# Legend
plt.legend(ncol=2, loc="lower center",  bbox_to_anchor=(0.5, -0.35))

ax3.get_legend().remove()

plt.show()

fig3.savefig("./NP-images/RGR.png", dpi=300, bbox_inches='tight', transparent=True)


''' 
Figure: Y_N

Let's just use values from the calculation spreadsheet!
'''
# separate settings and finds means and stdevs of Y_N
zea_Y_df = pd.read_csv(data_path + 'zea_Y_N.csv')
zea_Y_df = zea_Y_df[zea_Y_df[time_label] <= harvest_cutoff_zea]
zea_Y_hg = df_n_selection(zea_Y_df, nitrogen_label, 1).grouped
zea_Y_md = df_n_selection(zea_Y_df, nitrogen_label, 0).grouped
zea_Y_lw = df_n_selection(zea_Y_df, nitrogen_label, -1).grouped

zea_Y_hg[time_label] = zea_Y_hg[time_label] + point_offset + emerge_offset
zea_Y_md[time_label] += emerge_offset
zea_Y_lw[time_label] = zea_Y_lw[time_label] - point_offset + emerge_offset

# Y_hg_color="brown"
# Y_md_color="red"
# Y_lw_color="lightcoral"

Y_hg_color="MidnightBlue"
Y_md_color="DodgerBlue"
Y_lw_color="SkyBlue"
Y_LEGEND=False
Y_lnwt=5
Y_args={'ls':'--', 'lw':Y_lnwt}

# Figure
fig5, ax5 = plt.subplots(1, figsize=(10, 10))
ax5.set_box_aspect(1)

# Draw plots

zea_Y_hg.plot(x=time_label, y="Y_N", yerr="std_Y_N", label=hg_label, color=Y_hg_color, **Y_args, ax=ax5)
zea_Y_md.plot(x=time_label, y="Y_N", yerr="std_Y_N", label=md_label, color=Y_md_color, **Y_args, ax=ax5)
zea_Y_lw.plot(x=time_label, y="Y_N", yerr="std_Y_N", label=lw_label, color=Y_lw_color, **Y_args, ax=ax5)
#plt.axhline(y=2.89, label = "Wikstrom 1995", color='grey', linestyle='--')  # lit value

# Set axes
ax5.set_xlabel(time_xlabel)
# plt.xticks(np.arange(20,harvest_cutoff,5))
# ax5.set_xlim(19.5,harvest_cutoff+0.5)
# ax5.xaxis.set_minor_locator(ticker.MultipleLocator(1))
ax5.set_xlim(19.5,40.5)
ax5.xaxis.set_major_locator(ticker.MultipleLocator(5))
ax5.xaxis.set_minor_locator(ticker.MultipleLocator(1))

ax5.set_ylabel("Nitrogen Productivity, $\dot{Y}_\mathrm{N}\ [\si{\gram\of{DW}\per\day\per\gram\of{N}}]$")

plt.yticks(np.arange(-1,5,1))
ax5.yaxis.set_minor_locator(ticker.MultipleLocator(0.5))
# Not sure why I have to do this here
ax5.yaxis.set_major_formatter(ticker.FormatStrFormatter('%.1f'))

# Draw t_M box
ax5.axvspan(30, 35, color="#a5a5a5", alpha=0.25) # label="Harvesting Range"

# Legend
if Y_LEGEND:
    # handles, labels = plt.gca().get_legend_handles_labels()
    #order = [2,3,4,1,0]
    order = [2,3,1,0]
    # plt.legend([handles[i] for i in order],[labels[i] for i in order], ncol=2, loc="lower center",  bbox_to_anchor=(0.5, -0.35))
    plt.legend(ncol=2, loc="lower center",  bbox_to_anchor=(0.5, -0.35))
else:
    ax5.get_legend().remove()

plt.show()

fig5.savefig("./NP-images/Y_N.png", dpi=300, bbox_inches='tight', transparent=True)





zea_n_df = pd.read_csv(data_path + 'zea_nitrogen.csv')
zea_n_df = zea_n_df[zea_n_df[time_label] <= harvest_cutoff_zea]

zea_mN_hg = df_n_selection(zea_n_df, nitrogen_label, 1).grouped.dropna()
zea_mN_md = df_n_selection(zea_n_df, nitrogen_label, 0).grouped.dropna()
zea_mN_lw = df_n_selection(zea_n_df, nitrogen_label, -1).grouped.dropna()

zea_mN_hg[time_label] = zea_mN_hg[time_label] + emerge_offset + point_offset
zea_mN_md[time_label] += emerge_offset
zea_mN_lw[time_label] = zea_mN_lw[time_label] + emerge_offset - point_offset

mN_hg_color="MidnightBlue"
mN_md_color="DodgerBlue"
mN_lw_color="SkyBlue"

# Figure 
fig_mN, ax_mN = plt.subplots(1, figsize=(10, 10))
ax_mN.set_box_aspect(1)

# Draw plots
mN_lnwt = 5
zea_mN_hg.plot(x=time_label, y="mass_N", yerr="SD_mass_N", label=hg_label, color=mN_hg_color, ls='--', ax=ax_mN, lw=mN_lnwt)
zea_mN_md.plot(x=time_label, y="mass_N", yerr="SD_mass_N", label=md_label, color=mN_md_color, ls='--', ax=ax_mN, lw=mN_lnwt)
zea_mN_lw.plot(x=time_label, y="mass_N", yerr="SD_mass_N", label=lw_label, color=mN_lw_color, ls='--', ax=ax_mN, lw=mN_lnwt)

# Set axes
ax_mN.set_xlabel(time_xlabel)
ax_mN.set_xlim(19.5,40.5)
ax_mN.xaxis.set_major_locator(ticker.MultipleLocator(5))
ax_mN.xaxis.set_minor_locator(ticker.MultipleLocator(1))

ax_mN.set_ylabel(r"Plant Nitrogen Content, $m_\text{N}\ [\si{\gram}]$")
ax_mN.yaxis.set_minor_locator(ticker.MultipleLocator(0.05))

# Draw t_M box
ax_mN.axvspan(30, 35, color="#a5a5a5", alpha=0.25) # label="Harvesting Range"

# legend
plt.legend(ncol=2, loc="lower center", bbox_to_anchor=(0.5, -0.35))
ax_mN.get_legend().remove()

plt.show()

# Figure
fig_pctN, ax_pctN = plt.subplots(1, figsize=(10, 10))
ax_pctN.set_box_aspect(1)

# Draw plots
pctN_lnwt = 5
zea_mN_hg.plot(x=time_label, y="pct_N", yerr="SD_pct_N", label=hg_label, color=mN_hg_color, ls='-', ax=ax_pctN, lw=pctN_lnwt)
zea_mN_md.plot(x=time_label, y="pct_N", yerr="SD_pct_N", label=md_label, color=mN_md_color, ls='-', ax=ax_pctN, lw=pctN_lnwt)
zea_mN_lw.plot(x=time_label, y="pct_N", yerr="SD_pct_N", label=lw_label, color=mN_lw_color, ls='-', ax=ax_pctN, lw=pctN_lnwt)

# Set axes
ax_pctN.set_xlabel(time_xlabel)
# ax_pctN.set_xticks(np.arange(20, 41, 5))
ax_pctN.set_xlim(19.5,40.5)
ax_pctN.xaxis.set_major_locator(ticker.MultipleLocator(5))
ax_pctN.xaxis.set_minor_locator(ticker.MultipleLocator(1))

ax_pctN.set_ylabel("Plant Nitrogen Content [\% w/w]")
ax_pctN.yaxis.set_minor_locator(ticker.MultipleLocator(0.05))

# Draw t_M box
ax_pctN.axvspan(30, 35, color="#a5a5a5", alpha=0.25) # label="Harvesting Range"

# Legend
# plt.legend(ncol=2, loc="lower center", bbox_to_anchor=(0.5, -0.35))
ax_pctN.get_legend().remove()

plt.show()

fig_mN.savefig("./NP-images/m_N.png", dpi=300, bbox_inches='tight', transparent=True)
fig_pctN.savefig("./NP-images/pct_N.png", dpi=300, bbox_inches='tight', transparent=True)





harvest_cutoff_nitrogen = 38
N_offset = 2

rc_label = ["RC_N","RC_NH3","RC_NO3"]
rc_sd_label = ["RC_N_SD", "RC_NH3_SD", "RC_NO3_SD"]
ln_label = ["Total N","NH$_3$","NO$_3^-$"]

N_time_xlabel = "Time, $t\ [\si{\day\of{AE}}]$"

#rc_ylabel = "Concentration Relative Change"
rc_ylabel = r"Concentration RC, $\underline{\Delta}c$"

nss_rc_titlesize = 18
nss_rc_lgdsize = 15
nss_rc_axissize = 18
nss_rc_figsize = (10,10)
nss_rc_ln = 5

#nitrate_hg_color="MidnightBlue"
#nitrate_md_color="DodgerBlue"
#nitrate_lw_color="SkyBlue"

#ammonia_hg_color="MidnightBlue"
#ammonia_md_color="DodgerBlue"
#ammonia_lw_color="SkyBlue"

#totalN_hg_color="MidnightBlue"
#totalN_md_color="DodgerBlue"
#totalN_lw_color="SkyBlue"

#scheme1
#nitrate_color="olivedrab"
#ammonia_color="#c72718"
#totalN_color="Blue"

#scheme2
nitrate_color= '#283117'  #'#6e8b3d' # "#7f41e1"
ammonia_color= '#96BA5B'  #'#52682d' #"#41e1b9"
totalN_color= '#607936' # '#96b58d' # "#e18741" #totalN_color="RoyalBlue"
nitrate_ls='--'
ammonia_ls='--'
totalN_ls='-'

nitrate_plt_param={'ls':nitrate_ls, 'color':nitrate_color, 'lw':nss_rc_ln, 'dashes':(2.5,1)}
ammonia_plt_param={'ls':ammonia_ls, 'color':ammonia_color, 'lw':nss_rc_ln, 'dashes':(1,1.5)}
totalN_plt_param={'ls':totalN_ls, 'color':totalN_color, 'lw':nss_rc_ln}

#scheme3
#nitrate_color="#e16141"
#ammonia_color="#a4e141"
#totalN_color="#7f41e1"

zea_rcn_df = pd.read_csv(data_path + 'zea_RC_N_total_change.csv')
zea_rcn_df = zea_rcn_df[zea_rcn_df[time_label] <= harvest_cutoff_nitrogen]

zea_rcn_hg = df_n_selection(zea_rcn_df, nitrogen_label, 1).grouped
zea_rcn_md = df_n_selection(zea_rcn_df, nitrogen_label, 0).grouped
zea_rcn_lw = df_n_selection(zea_rcn_df, nitrogen_label, -1).grouped

zea_rcn_hg[time_label] += (N_offset)
zea_rcn_md[time_label] += (N_offset)
zea_rcn_lw[time_label] += (N_offset)

zea_rcn_total_hg = zea_rcn_hg[[time_label, rc_label[0], rc_sd_label[0]]].copy()
zea_rcn_total_md = zea_rcn_md[[time_label, rc_label[0], rc_sd_label[0]]].copy()
zea_rcn_total_lw = zea_rcn_lw[[time_label, rc_label[0], rc_sd_label[0]]].copy()

zea_rcn_NH3_hg = zea_rcn_hg[[time_label, rc_label[1], rc_sd_label[1]]].copy()
zea_rcn_NH3_hg[time_label] += point_offset
zea_rcn_NH3_md = zea_rcn_md[[time_label, rc_label[1], rc_sd_label[1]]].copy()
zea_rcn_NH3_md[time_label] += point_offset
zea_rcn_NH3_lw = zea_rcn_lw[[time_label, rc_label[1], rc_sd_label[1]]].copy()
zea_rcn_NH3_lw[time_label] += point_offset

zea_rcn_NO3_hg = zea_rcn_hg[[time_label, rc_label[2], rc_sd_label[2]]].copy()
zea_rcn_NO3_hg[time_label] -= point_offset
zea_rcn_NO3_md = zea_rcn_md[[time_label, rc_label[2], rc_sd_label[2]]].copy()
zea_rcn_NO3_md[time_label] -= point_offset
zea_rcn_NO3_lw = zea_rcn_lw[[time_label, rc_label[2], rc_sd_label[2]]].copy()
zea_rcn_NO3_lw[time_label] -= point_offset





rcn_y_maj_tk = 0.25
rcn_y_min_tk = 0.125
rcn_x_maj_tk = 5
rcn_x_min_tk = 1

ax6 = zea_rcn_total_hg.plot(x=time_label, y=rc_label[0], yerr=rc_sd_label[0], label=ln_label[0], figsize=nss_rc_figsize, **totalN_plt_param)
zea_rcn_NH3_hg.plot(x=time_label, y=rc_label[1], yerr=rc_sd_label[1], label=ln_label[1], ax=ax6, **ammonia_plt_param)
zea_rcn_NO3_hg.plot(x=time_label, y=rc_label[2], yerr=rc_sd_label[2], label=ln_label[2], ax=ax6, **nitrate_plt_param)

ax6.get_legend().remove()
ax6.set_xlabel(N_time_xlabel)
ax6.set_ylabel(rc_ylabel)
ax6.set_title("Excess")

plt.xticks(np.arange(10, 41, 10))
plt.yticks(np.arange(-1,0.5,0.5))
plt.xlim(9.5,40.5)
plt.ylim(-1.05,0.4)
ax6.yaxis.set_major_locator(ticker.MultipleLocator(rcn_y_maj_tk))
ax6.yaxis.set_minor_locator(ticker.MultipleLocator(rcn_y_min_tk))
ax6.xaxis.set_major_locator(ticker.MultipleLocator(rcn_x_maj_tk))
ax6.xaxis.set_minor_locator(ticker.MultipleLocator(rcn_x_min_tk))
plt.savefig("./NP-images/cN-RC_excess.png", dpi=300, bbox_inches='tight', transparent=True)

ax7 = zea_rcn_total_md.plot(x=time_label, y=rc_label[0], yerr=rc_sd_label[0], label=ln_label[0], figsize=nss_rc_figsize, **totalN_plt_param)
zea_rcn_NH3_md.plot(x=time_label, y=rc_label[1], yerr=rc_sd_label[1], label=ln_label[1], ax=ax7, **ammonia_plt_param)
zea_rcn_NO3_md.plot(x=time_label, y=rc_label[2], yerr=rc_sd_label[2], label=ln_label[2], ax=ax7, **nitrate_plt_param)

ax7.get_legend().remove()
ax7.set_xlabel(N_time_xlabel)
ax7.set_ylabel(rc_ylabel)
ax7.set_title("Normal")

plt.xticks(np.arange(10, 41, 10))
plt.yticks(np.arange(-1,0.5,0.5))
plt.xlim(9.5,40.5)
plt.ylim(-1.05,0.4)
ax7.yaxis.set_major_locator(ticker.MultipleLocator(rcn_y_maj_tk))
ax7.yaxis.set_minor_locator(ticker.MultipleLocator(rcn_y_min_tk))
ax7.xaxis.set_major_locator(ticker.MultipleLocator(rcn_x_maj_tk))
ax7.xaxis.set_minor_locator(ticker.MultipleLocator(rcn_x_min_tk))
plt.savefig("./NP-images/cN-RC_normal.png", dpi=300, bbox_inches='tight', transparent=True)

ax8 = zea_rcn_total_lw.plot(x=time_label, y=rc_label[0], yerr=rc_sd_label[0], label=ln_label[0], figsize=nss_rc_figsize, **totalN_plt_param)
zea_rcn_NH3_lw.plot(x=time_label, y=rc_label[1], yerr=rc_sd_label[1], label=ln_label[1], ax=ax8, **ammonia_plt_param)
zea_rcn_NO3_lw.plot(x=time_label, y=rc_label[2], yerr=rc_sd_label[2], label=ln_label[2], ax=ax8, **nitrate_plt_param)

ax8.get_legend().remove()
ax8.set_xlabel(N_time_xlabel)
ax8.set_ylabel(rc_ylabel)
ax8.set_title("Deficient")

plt.xticks(np.arange(10, 41, 10))
plt.yticks(np.arange(-1,.5,.5))
plt.xlim(9.5,40.5)
plt.ylim(-1.05,0.4)
ax8.yaxis.set_major_locator(ticker.MultipleLocator(rcn_y_maj_tk))
ax8.yaxis.set_minor_locator(ticker.MultipleLocator(rcn_y_min_tk))
ax8.xaxis.set_major_locator(ticker.MultipleLocator(rcn_x_maj_tk))
ax8.xaxis.set_minor_locator(ticker.MultipleLocator(rcn_x_min_tk))
plt.savefig("./NP-images/cN-RC_deficient.png", dpi=300, bbox_inches='tight', transparent=True)

# Draw legend separately
handles, labels = plt.gca().get_legend_handles_labels()
order=[0,1,2]
fig8_l, ax8_l = plt.subplots()
ax8_l.axis(False)
ax8_l.legend([handles[i] for i in order],[labels[i] for i in order], loc="center", ncol=3)

plt.savefig("./NP-images/cN-RC_legend.png", dpi=300, bbox_inches='tight', transparent=True)

plt.show()






nss_rc_fig, nss_rc_axes = plt.subplots(nrows=3, ncols=1, sharex=True, sharey=True)

nss_rc_fig.set_figheight(15)
nss_rc_fig.set_figwidth(5)

for ax in nss_rc_axes:
    ax.set_adjustable('box', share=True)
    ax.xaxis.set_minor_locator(ticker.MultipleLocator(5))

nss_rc_axes[0].errorbar(zea_rcn_total_hg[time_label], zea_rcn_total_hg[rc_label[0]], yerr=zea_rcn_total_hg[rc_sd_label[0]], label=ln_label[0], color=totalN_color, zorder=3)
nss_rc_axes[0].errorbar(zea_rcn_NH3_hg[time_label], zea_rcn_NH3_hg[rc_label[1]], yerr=zea_rcn_NH3_hg[rc_sd_label[1]], label=ln_label[1], color=ammonia_color, ls='--')
nss_rc_axes[0].errorbar(zea_rcn_NO3_hg[time_label], zea_rcn_NO3_hg[rc_label[2]], yerr=zea_rcn_NO3_hg[rc_sd_label[2]], label=ln_label[2], color=nitrate_color, ls='--')
nss_rc_axes[0].set_title("Excess Nitrogen Treatment")
nss_rc_axes[1].errorbar(zea_rcn_total_md[time_label], zea_rcn_total_md[rc_label[0]], yerr=zea_rcn_total_md[rc_sd_label[0]], label=ln_label[0], color=totalN_color, zorder=3)
nss_rc_axes[1].errorbar(zea_rcn_NH3_md[time_label], zea_rcn_NH3_md[rc_label[1]], yerr=zea_rcn_NH3_md[rc_sd_label[1]], label=ln_label[1], color=ammonia_color, ls='--')
nss_rc_axes[1].errorbar(zea_rcn_NO3_md[time_label], zea_rcn_NO3_md[rc_label[2]], yerr=zea_rcn_NO3_md[rc_sd_label[2]], label=ln_label[2], color=nitrate_color, ls='--')
nss_rc_axes[1].set_title("Normal Nitrogen Treatment")
nss_rc_axes[2].errorbar(zea_rcn_total_lw[time_label], zea_rcn_total_lw[rc_label[0]], yerr=zea_rcn_total_lw[rc_sd_label[0]], label=ln_label[0], color=totalN_color, zorder=3)
nss_rc_axes[2].errorbar(zea_rcn_NH3_lw[time_label], zea_rcn_NH3_lw[rc_label[1]], yerr=zea_rcn_NH3_lw[rc_sd_label[1]], label=ln_label[1], color=ammonia_color, ls='--')
nss_rc_axes[2].errorbar(zea_rcn_NO3_lw[time_label], zea_rcn_NO3_lw[rc_label[2]], yerr=zea_rcn_NO3_lw[rc_sd_label[2]], label=ln_label[2], color=nitrate_color, ls='--')
nss_rc_axes[2].set_title("Deficient Nitrogen Treatment")

nss_rc_fig.supxlabel(N_time_xlabel)
nss_rc_fig.supylabel(rc_ylabel, x=-0.2)

nss_rc_fig.subplots_adjust(bottom=0.1)  # we need these hax so the legend doesn't go on top of x label
nss_rc_fig.legend(labels=["Total N","NH$_3$","NO$_3^-$"], ncol=3, loc="lower center",  bbox_to_anchor=(0.5, -0.05))

plt.xticks(np.arange(10, 41, 10))
plt.show()


'''
As above, but horizontal
'''
nss_rc_fig, nss_rc_axes = plt.subplots(nrows=1, ncols=3, sharex=True, sharey=True)

nss_rc_fig.set_figheight(5)
nss_rc_fig.set_figwidth(15)

nss_rc_titlesize = plt_font_size
nss_rc_lgdsize = lgd_font_size
nss_rc_axissize = plt_font_size

for ax in nss_rc_axes:
    # ax.set_adjustable('box', share=True)
    ax.xaxis.set_minor_locator(ticker.MultipleLocator(5))
    # ax.tick_params(axis='both', labelsize=nss_rc_axissize)
    ax.yaxis.set_minor_locator(ticker.MultipleLocator(0.25))

nss_rc_axes[2].errorbar(zea_rcn_total_hg[time_label], zea_rcn_total_hg[rc_label[0]], yerr=zea_rcn_total_hg[rc_sd_label[0]], label=ln_label[0], color=totalN_color, ls='--', zorder=3)
nss_rc_axes[2].errorbar(zea_rcn_NH3_hg[time_label], zea_rcn_NH3_hg[rc_label[1]], yerr=zea_rcn_NH3_hg[rc_sd_label[1]], label=ln_label[1], color=ammonia_color, ls='-')
nss_rc_axes[2].errorbar(zea_rcn_NO3_hg[time_label], zea_rcn_NO3_hg[rc_label[2]], yerr=zea_rcn_NO3_hg[rc_sd_label[2]], label=ln_label[2], color=nitrate_color, ls='-')
nss_rc_axes[2].set_title("Excess", fontsize=nss_rc_titlesize)
nss_rc_axes[1].errorbar(zea_rcn_total_md[time_label], zea_rcn_total_md[rc_label[0]], yerr=zea_rcn_total_md[rc_sd_label[0]], label=ln_label[0], color=totalN_color, ls='--', zorder=3)
nss_rc_axes[1].errorbar(zea_rcn_NH3_md[time_label], zea_rcn_NH3_md[rc_label[1]], yerr=zea_rcn_NH3_md[rc_sd_label[1]], label=ln_label[1], color=ammonia_color, ls='-')
nss_rc_axes[1].errorbar(zea_rcn_NO3_md[time_label], zea_rcn_NO3_md[rc_label[2]], yerr=zea_rcn_NO3_md[rc_sd_label[2]], label=ln_label[2], color=nitrate_color, ls='-')
nss_rc_axes[1].set_title("Normal", fontsize=nss_rc_titlesize)
nss_rc_axes[0].errorbar(zea_rcn_total_lw[time_label], zea_rcn_total_lw[rc_label[0]], yerr=zea_rcn_total_lw[rc_sd_label[0]], label=ln_label[0], color=totalN_color, ls='--', zorder=3)
nss_rc_axes[0].errorbar(zea_rcn_NH3_lw[time_label], zea_rcn_NH3_lw[rc_label[1]], yerr=zea_rcn_NH3_lw[rc_sd_label[1]], label=ln_label[1], color=ammonia_color, ls='-')
nss_rc_axes[0].errorbar(zea_rcn_NO3_lw[time_label], zea_rcn_NO3_lw[rc_label[2]], yerr=zea_rcn_NO3_lw[rc_sd_label[2]], label=ln_label[2], color=nitrate_color, ls='-')
nss_rc_axes[0].set_title("Deficient", fontsize=nss_rc_titlesize)

nss_rc_fig.supxlabel(N_time_xlabel, fontsize=nss_rc_axissize)
nss_rc_fig.supylabel(r"Concentration RC, $\underline{\Delta}c$", ha='center', fontsize=nss_rc_axissize)

nss_rc_fig.subplots_adjust(bottom=0.25)  # we need these hax so the legend doesn't go on top of x label
nss_rc_fig.legend(labels=["Total N","NH$_3$","NO$_3^-$"], ncol=3, loc="lower center",  bbox_to_anchor=(0.5, -0.15), fontsize=nss_rc_lgdsize)

plt.xticks(np.arange(10, 41, 10))
plt.yticks(np.arange(-1,.5,.5))
plt.show()


c_label = ["c_N","c_NH3","c_NO3"]
c_sd_label = ["c_N_SD", "c_NH3_SD", "c_NO3_SD"]
conc_ylabel = "Concentration, $c\ [\si{\milli\mole\per\liter}]$"

zea_cn_df = pd.read_csv(data_path + 'zea_cN.csv')
zea_cn_df = zea_cn_df[zea_cn_df[time_label] <= harvest_cutoff]

zea_cn_hg = df_n_selection(zea_cn_df, nitrogen_label, 1).grouped
zea_cn_md = df_n_selection(zea_cn_df, nitrogen_label, 0).grouped
zea_cn_lw = df_n_selection(zea_cn_df, nitrogen_label, -1).grouped

#zea_cn_hg[time_label] += point_offset
#zea_cn_lw[time_label] -= point_offset

zea_cn_total_hg = zea_cn_hg[[time_label, c_label[0], c_sd_label[0]]].copy()
zea_cn_total_md = zea_cn_md[[time_label, c_label[0], c_sd_label[0]]].copy()
zea_cn_total_lw = zea_cn_lw[[time_label, c_label[0], c_sd_label[0]]].copy()

zea_cn_NH3_hg = zea_cn_hg[[time_label, c_label[1], c_sd_label[1]]].copy()
zea_cn_NH3_hg[time_label] += point_offset
zea_cn_NH3_md = zea_cn_md[[time_label, c_label[1], c_sd_label[1]]].copy()
zea_cn_NH3_md[time_label] += point_offset
zea_cn_NH3_lw = zea_cn_lw[[time_label, c_label[1], c_sd_label[1]]].copy()
zea_cn_NH3_lw[time_label] += point_offset

zea_cn_NO3_hg = zea_cn_hg[[time_label, c_label[2], c_sd_label[2]]].copy()
zea_cn_NO3_hg[time_label] -= point_offset
zea_cn_NO3_md = zea_cn_md[[time_label, c_label[2], c_sd_label[2]]].copy()
zea_cn_NO3_md[time_label] -= point_offset
zea_cn_NO3_lw = zea_cn_lw[[time_label, c_label[2], c_sd_label[2]]].copy()
zea_cn_NO3_lw[time_label] -= point_offset

nss_c_fig, nss_c_axes = plt.subplots(nrows=3, ncols=1, sharex=True, sharey=True)
nss_c_fig.set_figheight(15)
nss_c_fig.set_figwidth(15)

nss_c_axes[0].errorbar(zea_cn_total_hg[time_label], zea_cn_total_hg[c_label[0]], yerr=zea_cn_total_hg[c_sd_label[0]], label=ln_label[0], color=totalN_color)
nss_c_axes[0].errorbar(zea_cn_NH3_hg[time_label], zea_cn_NH3_hg[c_label[1]], yerr=zea_cn_NH3_hg[c_sd_label[1]], label=ln_label[1], color=ammonia_color, ls='--')
nss_c_axes[0].errorbar(zea_cn_NO3_hg[time_label], zea_cn_NO3_hg[c_label[2]], yerr=zea_cn_NO3_hg[c_sd_label[2]], label=ln_label[2], color=nitrate_color, ls='--')
nss_c_axes[0].set_title("Excess Nitrogen Treatment")
nss_c_axes[1].errorbar(zea_cn_total_md[time_label], zea_cn_total_md[c_label[0]], yerr=zea_cn_total_md[c_sd_label[0]], label=ln_label[0], color=totalN_color)
nss_c_axes[1].errorbar(zea_cn_NH3_md[time_label], zea_cn_NH3_md[c_label[1]], yerr=zea_cn_NH3_md[c_sd_label[1]], label=ln_label[1], color=ammonia_color, ls='--')
nss_c_axes[1].errorbar(zea_cn_NO3_md[time_label], zea_cn_NO3_md[c_label[2]], yerr=zea_cn_NO3_md[c_sd_label[2]], label=ln_label[2], color=nitrate_color, ls='--')
nss_c_axes[1].set_title("Normal Nitrogen Treatment")
nss_c_axes[2].errorbar(zea_cn_total_lw[time_label], zea_cn_total_lw[c_label[0]], yerr=zea_cn_total_lw[c_sd_label[0]], label=ln_label[0], color=totalN_color)
nss_c_axes[2].errorbar(zea_cn_NH3_lw[time_label], zea_cn_NH3_lw[c_label[1]], yerr=zea_cn_NH3_lw[c_sd_label[1]], label=ln_label[1], color=ammonia_color, ls='--')
nss_c_axes[2].errorbar(zea_cn_NO3_lw[time_label], zea_cn_NO3_lw[c_label[2]], yerr=zea_cn_NO3_lw[c_sd_label[2]], label=ln_label[2], color=nitrate_color, ls='--')
nss_c_axes[2].set_title("Deficient Nitrogen Treatment")

nss_c_fig.supxlabel(N_time_xlabel)
nss_c_fig.supylabel(conc_ylabel)

nss_c_fig.subplots_adjust(bottom=0.1)  # we need these hax so the legend doesn't go on top of x label
nss_c_fig.legend(labels=["Total N","NH$_3$","NO$_3^-$"], ncol=3, loc="lower center",  bbox_to_anchor=(0.5, -0.05))
plt.show()





# zea_RUR_df = pd.read_csv('zea_RUR.csv')
# zea_RUR_df = zea_RUR_df[zea_RUR_df[time_label] <= 45]

# zea_RUR_hg = df_n_selection(zea_RUR_df, nitrogen_label, 1).grouped
# zea_RUR_md = df_n_selection(zea_RUR_df, nitrogen_label, 0).grouped
# zea_RUR_lw = df_n_selection(zea_RUR_df, nitrogen_label, -1).grouped

# zea_RUR_hg[time_label] = zea_RUR_hg[time_label] + emerge_offset + point_offset
# zea_RUR_md[time_label] += emerge_offset
# zea_RUR_lw[time_label] = zea_RUR_lw[time_label] + emerge_offset - point_offset

# RUR_hg_color = "orange"
# RUR_md_color = "gold"
# RUR_lw_color = "burlywood"
# RUR_lnwt = 5

# fig_RUR, ax_RUR = plt.subplots(1, figsize=(10, 10))
# zea_RUR_hg.plot(x=time_label, y="RUR", yerr="SD_RUR", label=hg_label, color=RUR_hg_color, ls='-.', lw=RUR_lnwt, ax=ax_RUR)
# zea_RUR_md.plot(x=time_label, y="RUR", yerr="SD_RUR", label=md_label, color=RUR_md_color, ls='-.', lw=RUR_lnwt, ax=ax_RUR)
# zea_RUR_lw.plot(x=time_label, y="RUR", yerr="SD_RUR", label=lw_label, color=RUR_lw_color, ls='-.', lw=RUR_lnwt, ax=ax_RUR)

# ax_RUR.set_xlabel(time_xlabel)
# # ax_RUR.xaxis.set_minor_locator(ticker.MultipleLocator(1))
# ax_RUR.set_ylabel("Relative Uptake Rate, RUR $[\si{\gram\of{N}\per\day\per\gram\of{DW}}]$")
# ax_RUR.set_box_aspect(1)

# plt.ticklabel_format(axis='y', style='sci', scilimits=(-3,-3))
# plt.legend(ncol=2, loc="lower center", bbox_to_anchor=(0.5, -0.35))
# plt.show()

# fig_RUR.savefig("./NP-images/RUR.png", dpi=300, bbox_inches='tight', transparent=True)





zea_pctN_df = pd.read_csv(data_path + 'zea_pctN.csv')
zea_pctN_df = zea_pctN_df[zea_pctN_df[time_label] <= harvest_cutoff_zea]

zea_pctN_hg = df_n_selection(zea_pctN_df, nitrogen_label, 1).grouped
zea_pctN_md = df_n_selection(zea_pctN_df, nitrogen_label, 0).grouped
zea_pctN_lw = df_n_selection(zea_pctN_df, nitrogen_label, -1).grouped

zea_pctN_hg[time_label] += emerge_offset
zea_pctN_md[time_label] += emerge_offset
zea_pctN_lw[time_label] += emerge_offset

zea_rgr_df = pd.read_csv(data_path + 'zea_RGR.csv')
zea_rgr_df = zea_rgr_df[zea_rgr_df[time_label] <= harvest_cutoff_zea]

zea_rgr_hg = df_n_selection(zea_rgr_df, nitrogen_label, 1).grouped
zea_rgr_md = df_n_selection(zea_rgr_df, nitrogen_label, 0).grouped
zea_rgr_lw = df_n_selection(zea_rgr_df, nitrogen_label, -1).grouped

zea_rgr_hg[time_label] += emerge_offset
zea_rgr_md[time_label] += emerge_offset
zea_rgr_lw[time_label] += emerge_offset

RGRvN_hg_color = "DarkMagenta"
RGRvN_md_color = "HotPink"
RGRvN_lw_color = "Plum"

RGR_pctN_fig, RGR_pctN_axes = plt.subplots(1, figsize=(10, 10))

RGR_pctN_axes.set_xlabel("Plant Nitrogen Content [\% w/w]")
RGR_pctN_axes.set_ylabel("Relative Growth Rate, RGR $[\si{\gram\of{DW}\per\day\per\gram\of{DW}}]$")
RGR_pctN_axes.set_box_aspect(1)

z_hg = np.polyfit(zea_pctN_hg['pctN'], zea_rgr_hg['RGR'], 1)
p_hg = np.poly1d(z_hg)

z_md = np.polyfit(zea_pctN_md['pctN'], zea_rgr_md['RGR'], 1)
p_md = np.poly1d(z_md)

z_lw = np.polyfit(zea_pctN_lw['pctN'], zea_rgr_lw['RGR'], 1)
p_lw = np.poly1d(z_lw)

# import scipy.stats
# slope, intercept, r_value, p_value, std_err = scipy.stats.linregress(zea_pctN_lw['pctN'], zea_rgr_lw['RGR'])
# print(slope)
# print(r_value)

trend_rg = np.arange(0.1, 0.7, 0.1)

RGR_pctN_lnwt = 5

# print("y=%.6fx+(%.6f)"%(z[0],z[1]))

RGR_pctN_axes.errorbar(zea_pctN_hg['pctN'], zea_rgr_hg['RGR'], xerr=zea_pctN_hg['std_pctN'], yerr=zea_rgr_hg['std_RGR'], color=RGRvN_hg_color, label=hg_label, fmt='.', lw=4)
RGR_pctN_axes.errorbar(zea_pctN_md['pctN'], zea_rgr_md['RGR'], xerr=zea_pctN_md['std_pctN'], yerr=zea_rgr_md['std_RGR'], color=RGRvN_md_color, label=md_label, fmt='.', lw=4)
RGR_pctN_axes.errorbar(zea_pctN_lw['pctN'], zea_rgr_lw['RGR'], xerr=zea_pctN_lw['std_pctN'], yerr=zea_rgr_lw['std_RGR'], color=RGRvN_lw_color, label=lw_label, fmt='.', lw=4)

zea_pctN_md = zea_pctN_md.sort_values(by='pctN') # fix backtracking
RGR_pctN_axes.plot(zea_pctN_hg['pctN'],p_hg(zea_pctN_hg['pctN']), color=RGRvN_hg_color, ls="--", lw=RGR_pctN_lnwt)
RGR_pctN_axes.plot(zea_pctN_md['pctN'],p_md(zea_pctN_md['pctN']), color=RGRvN_md_color, ls="--", lw=RGR_pctN_lnwt)
RGR_pctN_axes.plot(zea_pctN_lw['pctN'],p_lw(zea_pctN_lw['pctN']), color=RGRvN_lw_color, ls="--", lw=RGR_pctN_lnwt)

RGR_pctN_axes.xaxis.set_minor_locator(ticker.MultipleLocator(0.05))

#order=[2,1,0]
handles, labels = plt.gca().get_legend_handles_labels()
#plt.legend([handles[i] for i in order],[labels[i] for i in order], ncol=2, loc="lower center",  bbox_to_anchor=(0.5, -0.35))
plt.legend(ncol=2, loc="lower center",  bbox_to_anchor=(0.5, -0.35))
plt.xticks(np.arange(0.1, 0.7, 0.1))
plt.yticks(np.arange(-0.1, 0.5, 0.1))
plt.show()

RGR_pctN_fig.savefig("./NP-images/RGR-vs-pctN.png", dpi=300, bbox_inches='tight', transparent=True)


print("y=%.6fx+(%.6f)"%(z_hg[0],z_hg[1]))
print("y=%.6fx+(%.6f)"%(z_md[0],z_md[1]))
print("y=%.6fx+(%.6f)"%(z_lw[0],z_lw[1]))





'''
Figure: rnar

'''
zea_rnar_df = pd.read_csv(data_path + 'zea_RNAR.csv')
zea_rnar_df = zea_rnar_df[zea_rnar_df[time_label] <= harvest_cutoff_zea]
zea_rnar_hg = df_n_selection(zea_rnar_df, nitrogen_label, 1).grouped
zea_rnar_md = df_n_selection(zea_rnar_df, nitrogen_label, 0).grouped
zea_rnar_lw = df_n_selection(zea_rnar_df, nitrogen_label, -1).grouped

zea_rnar_hg[time_label] = zea_rnar_hg[time_label] + point_offset + emerge_offset
zea_rnar_md[time_label] += emerge_offset
zea_rnar_lw[time_label] = zea_rnar_lw[time_label] - point_offset + emerge_offset

z_hg = np.polyfit(zea_rnar_hg[time_label], zea_rnar_hg['RNAR'], 1)
p_hg = np.poly1d(z_hg)

z_md = np.polyfit(zea_rnar_md[time_label], zea_rnar_md['RNAR'], 1)
p_md = np.poly1d(z_md)

z_lw = np.polyfit(zea_rnar_lw[time_label], zea_rnar_lw['RNAR'], 1)
p_lw = np.poly1d(z_lw)

rnar_hg_color = "orange"
rnar_md_color = "gold"
rnar_lw_color = "burlywood"

# Figure
fig_rnar, ax_rnar = plt.subplots(1, figsize=(10, 10))
ax_rnar.set_box_aspect(1)

# Draw plots
rnar_lnwt = 5
zea_rnar_hg.plot(x=time_label, y="RNAR", yerr="std_RNAR", label=hg_label, color=rnar_hg_color, ls='-', lw=rnar_lnwt, ax=ax_rnar)
zea_rnar_md.plot(x=time_label, y="RNAR", yerr="std_RNAR", label=md_label, color=rnar_md_color, ls='-', lw=rnar_lnwt, ax=ax_rnar)
zea_rnar_lw.plot(x=time_label, y="RNAR", yerr="std_RNAR", label=lw_label, color=rnar_lw_color, ls='-', lw=rnar_lnwt, ax=ax_rnar)

ax_rnar.plot(zea_rnar_hg[time_label], p_hg(zea_rnar_hg[time_label]), color=rnar_hg_color, ls="--", lw=rnar_lnwt)
ax_rnar.plot(zea_rnar_md[time_label], p_md(zea_rnar_md[time_label]), color=rnar_md_color, ls="--", lw=rnar_lnwt)
ax_rnar.plot(zea_rnar_lw[time_label], p_lw(zea_rnar_lw[time_label]), color=rnar_lw_color, ls="--", lw=rnar_lnwt)

# Set axes
ax_rnar.set_xlabel(time_xlabel)
plt.xticks(np.arange(20, harvest_cutoff + 1, 5))
ax_rnar.xaxis.set_minor_locator(ticker.MultipleLocator(1))

ax_rnar.set_ylabel("Relative N Accum. Rate, $\mu_\mathrm{N}\ [\si{\per\day}]$")
plt.yticks(np.arange(-0.1, 0.5, 0.1))
ax_rnar.set_xlim(19.5,40.5)
ax_rnar.xaxis.set_major_locator(ticker.MultipleLocator(5))
ax_rnar.xaxis.set_minor_locator(ticker.MultipleLocator(1))

# Draw t_M box
ax_rnar.axvspan(30, 35, color="#a5a5a5", alpha=0.25) # label="Harvesting Range"

# Legend
plt.legend(ncol=2, loc="lower center",  bbox_to_anchor=(0.5, -0.35))

plt.show()

fig_rnar.savefig("./NP-images/RNAR.png", dpi=300, bbox_inches='tight', transparent=True)





'''
Figure: NUE

'''
zea_etaN_df = pd.read_csv(data_path + 'zea_NUE.csv')
zea_etaN_df = zea_etaN_df[zea_etaN_df[time_label] <= harvest_cutoff_zea]
zea_etaN_hg = df_n_selection(zea_etaN_df, nitrogen_label, 1).grouped
zea_etaN_md = df_n_selection(zea_etaN_df, nitrogen_label, 0).grouped
zea_etaN_lw = df_n_selection(zea_etaN_df, nitrogen_label, -1).grouped

zea_etaN_hg[time_label] = zea_etaN_hg[time_label] + point_offset + emerge_offset
zea_etaN_md[time_label] += emerge_offset
zea_etaN_lw[time_label] = zea_etaN_lw[time_label] - point_offset + emerge_offset

z_hg = np.polyfit(zea_etaN_hg[time_label], zea_etaN_hg['NUE'], 1)
p_hg = np.poly1d(z_hg)

z_md = np.polyfit(zea_etaN_md[time_label], zea_etaN_md['NUE'], 1)
p_md = np.poly1d(z_md)

z_lw = np.polyfit(zea_etaN_lw[time_label], zea_etaN_lw['NUE'], 1)
p_lw = np.poly1d(z_lw)

etaN_hg_color = "DarkMagenta"
etaN_md_color = "Hotpink"
etaN_lw_color = "Plum"
etaN_lnwt = 5
etaN_args = {'ls':'-', 'lw':etaN_lnwt}

# Figure
fig_etaN, ax_etaN = plt.subplots(1, figsize=(10, 10))
ax_etaN.set_box_aspect(1)

# Draw plots
zea_etaN_hg.plot(x=time_label, y="NUE", yerr="std_NUE", label=hg_label, color=etaN_hg_color, ax=ax_etaN, **etaN_args)
zea_etaN_md.plot(x=time_label, y="NUE", yerr="std_NUE", label=md_label, color=etaN_md_color, ax=ax_etaN, **etaN_args)
zea_etaN_lw.plot(x=time_label, y="NUE", yerr="std_NUE", label=lw_label, color=etaN_lw_color, ax=ax_etaN, **etaN_args)

ax_etaN.plot(zea_etaN_hg[time_label], p_hg(zea_etaN_hg[time_label]), color=etaN_hg_color, ls="--", lw=etaN_lnwt)
ax_etaN.plot(zea_etaN_md[time_label], p_md(zea_etaN_md[time_label]), color=etaN_md_color, ls="--", lw=etaN_lnwt)
ax_etaN.plot(zea_etaN_lw[time_label], p_lw(zea_etaN_lw[time_label]), color=etaN_lw_color, ls="--", lw=etaN_lnwt)

# Set axes
ax_etaN.set_xlabel(time_xlabel)
plt.xticks(np.arange(20, harvest_cutoff + 1, 5))
ax_etaN.set_xlim(19.5,40.5)
ax_etaN.xaxis.set_major_locator(ticker.MultipleLocator(5))
ax_etaN.xaxis.set_minor_locator(ticker.MultipleLocator(1))

ax_etaN.set_ylabel("N Use Efficiency, $\eta_\mathrm{N}\ [\si{\gram\of{DW}\per\gram\of{N}}]$")
# plt.yticks(np.arange(-0.1, 0.5, 0.1))
ax_etaN.yaxis.set_minor_locator(ticker.MultipleLocator(5))

# Draw t_M box
ax_etaN.axvspan(30, 35, color="#a5a5a5", alpha=0.25) # label="Harvesting Range"

# Legend
plt.legend(ncol=2, loc="lower center",  bbox_to_anchor=(0.5, -0.35))

plt.show()

fig_etaN.savefig("./NP-images/etaN.png", dpi=300, bbox_inches='tight', transparent=True)
