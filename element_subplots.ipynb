{
 "cells": [
  {
   "cell_type": "markdown",
   "metadata": {},
   "source": [
    "# NITROGEN ACCOUNTANCY IN SPACE AGRICULTURE\n",
    "## Elemental composition plots\n",
    "---"
   ]
  },
  {
   "cell_type": "code",
   "execution_count": null,
   "metadata": {},
   "outputs": [],
   "source": [
    "import pandas as pd\n",
    "import matplotlib.pyplot as plt\n",
    "import numpy as np"
   ]
  },
  {
   "cell_type": "code",
   "execution_count": null,
   "metadata": {},
   "outputs": [],
   "source": [
    "def create_horizontal_stacked_bar_chart_with_actual_values(df, title, color_scheme):\n",
    "    ax = df.set_index(df.columns[0]).plot(kind='barh', stacked=True, figsize=(4, 3), colormap=color_scheme)\n",
    "    ax.set_title(title)\n",
    "    ax.set_xlabel(\"Mass Fraction (DW)\")\n",
    "\n",
    "    if title == \"C, O, H Fractions\":\n",
    "        ax.set_xlim(0,1.0)\n",
    "        ax.legend(bbox_to_anchor=(0, 0.5), ncol=1, loc='center left', handlelength=1, handleheight=1, framealpha=1)\n",
    "    elif title == 'Macronutrient Fractions':\n",
    "        ax.set_xlim(0,0.15)\n",
    "        ax.legend(bbox_to_anchor=(1.075, 0.45), ncol=1, loc='center right', handlelength=1, handleheight=1, framealpha=1)\n",
    "    else:\n",
    "        ax.set_xlim(0,0.0006)\n",
    "        ax.legend(bbox_to_anchor=(1.075, 0.5), ncol=1, loc='center right', handlelength=1, handleheight=1, framealpha=1)\n",
    "    \n",
    "    plt.tight_layout()\n",
    "    ax.spines[['right', 'top']].set_visible(False)\n",
    "\n",
    "    # Saving the plot as a PNG file\n",
    "    # plt.show()\n",
    "    plt.savefig(\"./comp-images/\" + title + \".png\", dpi=300, bbox_inches='tight')\n",
    "\n",
    "def create_bar_chart_for_general(df, title, color_scheme):\n",
    "    # Set the index to the crop names\n",
    "    df_plot = df.set_index('Crop')\n",
    "\n",
    "    # Plotting\n",
    "    ax = df_plot.plot(kind='barh', width=0.9, figsize=(4.5, 5), colormap=color_scheme)\n",
    "    ax.set_title(title)\n",
    "    ax.set_xlabel(\"Value\")\n",
    "    ax.set_xlim(0, 1.0)\n",
    "    # plt.xticks(rotation=45)\n",
    "    ax.spines[['right', 'top']].set_visible(False)\n",
    "    ax.legend(loc='upper center', bbox_to_anchor=(0.5, -0.15), ncol=2, handlelength=1, handleheight=1, framealpha=1)\n",
    "    plt.tight_layout()\n",
    "    \n",
    "    # Saving the plot as a PNG file\n",
    "    # plt.show()\n",
    "    plt.savefig(\"./comp-images/\" + title + \".png\", dpi=300, bbox_inches='tight')"
   ]
  },
  {
   "cell_type": "code",
   "execution_count": null,
   "metadata": {},
   "outputs": [],
   "source": [
    "file_path = './parameter-lists/composition_data.xlsx'  # Update the path if the file is in a different directory\n",
    "sheets_dict = pd.read_excel(file_path, sheet_name=None)\n",
    "# reverse the crop order so we go top down\n",
    "sheets_dict['general'] = sheets_dict['general'].iloc[::-1].drop(columns=\"Harvest Index\")\n",
    "sheets_dict['simple'] = sheets_dict['simple'].iloc[::-1]\n",
    "sheets_dict['macro'] = sheets_dict['macro'].iloc[::-1]\n",
    "sheets_dict['micro'] = sheets_dict['micro'].iloc[::-1]"
   ]
  },
  {
   "cell_type": "code",
   "execution_count": null,
   "metadata": {},
   "outputs": [],
   "source": [
    "# Simple sheet plot\n",
    "create_horizontal_stacked_bar_chart_with_actual_values(sheets_dict['simple'], 'C, O, H Fractions', 'tab10')\n",
    "\n",
    "# Macro sheet plot\n",
    "create_horizontal_stacked_bar_chart_with_actual_values(sheets_dict['macro'], 'Macronutrient Fractions', 'Set2')\n",
    "\n",
    "# Micro sheet plot\n",
    "create_horizontal_stacked_bar_chart_with_actual_values(sheets_dict['micro'], 'Micronutrient Fractions', 'Set3')"
   ]
  },
  {
   "cell_type": "code",
   "execution_count": null,
   "metadata": {},
   "outputs": [],
   "source": [
    "# General sheet plot\n",
    "create_bar_chart_for_general(sheets_dict['general'], 'Crop Parameters', 'Accent')"
   ]
  }
 ],
 "metadata": {
  "kernelspec": {
   "display_name": "Python 3 (ipykernel)",
   "language": "python",
   "name": "python3"
  },
  "language_info": {
   "codemirror_mode": {
    "name": "ipython",
    "version": 3
   },
   "file_extension": ".py",
   "mimetype": "text/x-python",
   "name": "python",
   "nbconvert_exporter": "python",
   "pygments_lexer": "ipython3",
   "version": "3.11.8"
  }
 },
 "nbformat": 4,
 "nbformat_minor": 4
}
