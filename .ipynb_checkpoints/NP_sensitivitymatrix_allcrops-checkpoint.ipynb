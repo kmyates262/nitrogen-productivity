{
 "cells": [
  {
   "cell_type": "code",
   "execution_count": 18,
   "id": "dd62e5e5",
   "metadata": {},
   "outputs": [],
   "source": [
    "import numpy as np\n",
    "import scipy.integrate as integrate\n",
    "import matplotlib.pyplot as plt\n",
    "import pandas as pd\n",
    "from DU4 import *\n",
    "import time\n",
    "\n",
    "import matplotlib.style as style\n",
    "plt.rcParams.update(plt.rcParamsDefault)\n",
    "style.use('seaborn-poster')\n",
    "plt.rcParams['figure.dpi'] = 300\n",
    "\n",
    "'''\n",
    "Spines & lines\n",
    "'''\n",
    "box_lw = 1\n",
    "mono_colr = 'k'\n",
    "plt.rcParams['axes.spines.bottom'] = True\n",
    "plt.rcParams['axes.spines.left'] = True\n",
    "plt.rcParams['axes.spines.right'] = False\n",
    "plt.rcParams['axes.spines.top'] = False\n",
    "plt.rcParams['axes.linewidth'] = box_lw\n",
    "plt.rcParams['xtick.major.width'] = box_lw\n",
    "plt.rcParams['ytick.major.width'] = box_lw\n",
    "'''\n",
    "Fonts & size\n",
    "'''\n",
    "plt_font_size = 8\n",
    "lgd_font_size = 8\n",
    "plt.rcParams['font.family'] = \"TeX Gyre Termes\"\n",
    "#plt.rc('font', **{'family' : 'sans-serif', 'sans-serif' : ['Myriad Pro']})\n",
    "plt.rcParams['font.size'] = plt_font_size\n",
    "plt.rcParams['axes.labelsize'] = plt_font_size\n",
    "plt.rcParams['axes.titlesize'] = plt_font_size\n",
    "plt.rcParams['xtick.labelsize'] = plt_font_size\n",
    "plt.rcParams['ytick.labelsize'] = plt_font_size\n",
    "plt.rcParams['xtick.major.pad'] = 2\n",
    "plt.rcParams['ytick.major.pad'] = 2\n",
    "plt.rcParams['legend.fontsize'] = lgd_font_size\n",
    "'''\n",
    "Plots\n",
    "'''\n",
    "plt.rcParams['lines.linewidth'] = 2\n",
    "plt.rcParams['lines.markeredgewidth'] = 3\n",
    "plt.rcParams['errorbar.capsize'] = 5\n",
    "'''\n",
    "Colours\n",
    "'''\n",
    "plt.rcParams['axes.titlecolor'] = mono_colr\n",
    "plt.rcParams['axes.edgecolor'] = mono_colr\n",
    "plt.rcParams['axes.labelcolor'] = mono_colr\n",
    "plt.rcParams['xtick.color'] = mono_colr\n",
    "plt.rcParams['xtick.labelcolor'] = mono_colr\n",
    "plt.rcParams['ytick.color'] = mono_colr\n",
    "plt.rcParams['ytick.labelcolor'] = mono_colr\n",
    "'''\n",
    "LaTeX\n",
    "'''\n",
    "plt.rcParams['text.usetex'] = True\n",
    "plt.rcParams['text.latex.preamble'] = '\\n'.join([\n",
    "    r'\\usepackage[T3,T1]{fontenc}',\n",
    "    r'\\DeclareSymbolFont{tipa}{T3}{cmr}{m}{n}',\n",
    "    r'\\DeclareMathAccent{\\invbreve}{\\mathalpha}{tipa}{16}',\n",
    "    r'\\usepackage{siunitx}',\n",
    "    r'\\DeclareSIUnit\\crewmember{CM}',\n",
    "    r'\\sisetup{range-units=single}',\n",
    "    r'\\sisetup{range-phrase=\\textup{--}}'\n",
    "])  # Preamble must be one line!"
   ]
  },
  {
   "cell_type": "code",
   "execution_count": 19,
   "id": "4e272e03-68e7-4474-8618-cdb0cbf7e05c",
   "metadata": {},
   "outputs": [],
   "source": [
    "img_out_path = \"./NP-fits/\"\n",
    "data_out_path = \"./sens-mat/\"\n",
    "\n",
    "AX_NUM = False\n",
    "SHOW_LGD = False\n",
    "mec_colr = 'LimeGreen'\n",
    "np_colr = 'DodgerBlue'"
   ]
  },
  {
   "cell_type": "code",
   "execution_count": 8,
   "id": "feb2bd4b",
   "metadata": {},
   "outputs": [],
   "source": [
    "# For all, we take in c_CO2 and Phi_gamma because N uptake probably depends on them\n",
    "# Delta mB/Delta t = YN(t) * mN(t)\n",
    "\n",
    "def run_models(params, cropname, conds,exp_times=None):\n",
    "    \n",
    "    #print(params.shape)\n",
    "    def calc_eta_u(t, crop, c_CO2, Phi_gamma):\n",
    "        '''\n",
    "        N uptake performance, 1 = max\n",
    "        Could account for things like temp, pH\n",
    "        Assume max for now\n",
    "        Dimensionless\n",
    "        '''\n",
    "        return 1\n",
    "\n",
    "    def calc_mu_N(t, crop, c_CO2, Phi_gamma):\n",
    "        '''\n",
    "        seems to decrease over time\n",
    "        linear fit from Normal N\n",
    "        units of day^-1\n",
    "        '''\n",
    "        mu_N = -params[7] * t + params[6]\n",
    "        return mu_N\n",
    "\n",
    "    def calc_eta_N(t, crop, c_CO2, Phi_gamma):\n",
    "        '''\n",
    "        amount of plant you get per amount of N over time step\n",
    "        eta_N = m_B / <m_N>\n",
    "        dimensionless, but g_DW / g_N\n",
    "        '''\n",
    "        eta_N = -params[5]*t + params[4] \n",
    "        return eta_N\n",
    "\n",
    "    def calc_m_N(t, crop, c_CO2, Phi_gamma):\n",
    "        '''\n",
    "        m_N0 unit: g\n",
    "        K unit: g\n",
    "        r unit: day^-1\n",
    "        m_N unit: g\n",
    "        '''\n",
    "        m_N0 = params[0] \n",
    "        r = params[1] \n",
    "        K = params[2]\n",
    "        alpha = params[3] \n",
    "        m_N = alpha * (m_N0 * K * np.exp(r * t)) / ((K - m_N0) + m_N0 * np.exp(r * t))  # huger guess\n",
    "        return m_N\n",
    "\n",
    "    def calc_Y_N(t, crop, c_CO2, Phi_gamma):\n",
    "        '''\n",
    "        Calculated value is too high vs. empirical data - should be ~2 from day 23-37\n",
    "        Seems to be because eta_N is too high early on\n",
    "        '''\n",
    "        Y_N = calc_eta_u(t, crop, c_CO2, Phi_gamma) * calc_mu_N(t, crop, c_CO2, Phi_gamma) * calc_eta_N(t, crop, c_CO2, Phi_gamma)\n",
    "        return Y_N\n",
    "\n",
    "    def calc_m_B_NP(t, crop, c_CO2, Phi_gamma):\n",
    "        return calc_Y_N(t,crop,c_CO2,Phi_gamma) * calc_m_N(t,crop,c_CO2,Phi_gamma)\n",
    "\n",
    "    def NP_model(t, y, crop, c_CO2, Phi_gamma):\n",
    "        Neq = len(y)\n",
    "\n",
    "        ## Prepare dydt array\n",
    "        dydt = np.zeros((1, Neq))\n",
    "\n",
    "        ## Define dydt\n",
    "        dydt[0, 0] = calc_m_B_NP(t, crop, c_CO2, Phi_gamma)\n",
    "\n",
    "        return [np.transpose(dydt)]\n",
    "  \n",
    "    ## Define directory and locations\n",
    "    directory = 'parameter-lists/'\n",
    "    filename = 'crop_parameters_FPSD.xlsx'\n",
    "\n",
    "    ## Load standard parameters from BVAD\n",
    "    filename_full = directory + filename\n",
    "    \n",
    "    crop_type = cropname\n",
    "    crop = Crop(crop_type, filename_full=filename_full)\n",
    "    endtime = crop.t_M\n",
    "    #print('Ending time is:', endtime)\n",
    "    #tspan = [0, endtime]\n",
    "    #if len(exp_times) == None:\n",
    "    #    t_eval = np.arange(0, endtime+1, 1) #Where do we want the solution\n",
    "    #else:\n",
    "        #t_eval = exp_times.reshape(-1,)\n",
    "    t_eval = np.arange(0, endtime, 0.05)\n",
    "    tspan = [0,endtime]\n",
    "    \n",
    "    y0 = [0,0,50]\n",
    "    c_CO2 = conds[0]\n",
    "    Phi_gamma = conds[1]\n",
    "\n",
    "    sigma_N = crop.sigma_N\n",
    "    f_E = 1 # We assume 1 because we look at the whole plant\n",
    "    # f_E = crop.f_E\n",
    "\n",
    "    sol_NP = integrate.solve_ivp(NP_model, tspan, y0, args=(cropname,c_CO2,Phi_gamma), method='LSODA', t_eval=t_eval)\n",
    "    sol_NP.y[0] = sol_NP.y[0] * sigma_N # need to go from single plant to areal basis; by default NP is per plant\n",
    "\n",
    "    #fig, ax1 = plt.subplots(1, figsize=(5, 5))\n",
    "    # plt.ylim(0,120)\n",
    "    #plt.plot(sol_NP.t, sol_NP.y[0],linewidth=4, color = 'blue', label=\"NP normal\")\n",
    "    #plt.ylabel('Edible Biomass $[\\si{\\gram\\of{DW}\\per\\meter\\squared}]$')\n",
    "    #plt.xlabel('Time, t [d$_{\\mathrm{AE}}$]')\n",
    "    #plt.title('NP Model of Biomass Growth')\n",
    "\n",
    "    # Put MEC on top of it\n",
    "    def mec_model(t, y, crop, CO2, PPF):\n",
    "        Neq = len(y)\n",
    "\n",
    "        ## Prepare dydt array\n",
    "        dydt = np.zeros((1, Neq))\n",
    "\n",
    "        ## Define dydt\n",
    "        dydt[0, 0] = calc_m_B(t, crop, CO2, PPF)\n",
    "\n",
    "        return [np.transpose(dydt)]\n",
    "\n",
    "    ## Perform integration\n",
    "    start_time = time.time()\n",
    "    sol_MEC = integrate.solve_ivp(mec_model, tspan, y0, args=(crop,c_CO2,Phi_gamma), method='LSODA', t_eval=t_eval)\n",
    "   # print(\"--- %s seconds ---\" % (time.time() - start_time))\n",
    "\n",
    "    ## Convert m_T to m_E (with lettuce t_E = 0)\n",
    "    # sol_MEC.y[0] *= crop.f_E\n",
    "\n",
    "    #plt.plot(sol_MEC.t, sol_MEC.y[0], linewidth=4, color = 'g', ls='--', label=\"MEC prediction\")\n",
    "    #plt.legend()\n",
    "    #plt.show()\n",
    "\n",
    "    # show function values over time\n",
    "    f=np.zeros((50,1))\n",
    "    g=np.zeros((50,1))\n",
    "    h=np.zeros((50,1))\n",
    "    j=np.zeros((50,1))\n",
    "\n",
    "    for i in range(0,50):\n",
    "        f[i] = calc_mu_N(i, crop, c_CO2, Phi_gamma)\n",
    "        g[i] = calc_m_N(i, crop, c_CO2, Phi_gamma)\n",
    "        h[i] = calc_Y_N(i, crop, c_CO2, Phi_gamma)\n",
    "        j[i] = calc_eta_N(i, crop, c_CO2, Phi_gamma)\n",
    "\n",
    "    #plt.plot(np.arange(0,50), f, label=\"$\\mu_N$\")\n",
    "    #plt.plot(np.arange(0,50), g, label=\"$m_N$\")\n",
    "    #plt.plot(np.arange(0,50), h, label=\"$\\dot{Y}_N$\")\n",
    "    #plt.plot(np.arange(0,50), j, label=\"$\\eta_N$\")\n",
    "    #plt.legend()\n",
    "    return sol_MEC.t, sol_MEC.y[0], sol_NP.t, sol_NP.y[0]"
   ]
  },
  {
   "cell_type": "code",
   "execution_count": 9,
   "id": "a3da2f08",
   "metadata": {},
   "outputs": [
    {
     "name": "stdout",
     "output_type": "stream",
     "text": [
      "           crop      m_N0         r         K         α    η_N (b)   η_N (m)  \\\n",
      "0      dry_bean  0.013572  0.276165  5.326609  0.016493  53.434833  0.302602   \n",
      "1       lettuce  0.001454  0.241347  6.986500  0.082681  37.893183  1.099468   \n",
      "2        peanut  0.003615  0.107448  0.491882  0.294526  32.930248  0.101091   \n",
      "3          rice  0.000100  0.094100  1.440000  0.112000  50.800000  0.622000   \n",
      "4       soybean  0.017000  0.203000  1.780000  0.015700  27.800000  0.095000   \n",
      "5  sweet_potato  0.010000  0.099600  0.199000  0.028400  74.600000  0.106000   \n",
      "6        tomato  0.003070  0.146000  1.520000  0.152000  50.200000  0.110000   \n",
      "7         wheat  0.000165  0.200000  0.005180  0.150000  45.100000  0.781000   \n",
      "8  white_potato  0.007340  0.117000  1.580000  0.062800  50.500000  0.218000   \n",
      "\n",
      "    μ_N (b)   μ_N (m)  \n",
      "0  0.667867  0.008000  \n",
      "1  0.689202  0.008000  \n",
      "2  0.886126  0.008026  \n",
      "3  0.961000  0.011700  \n",
      "4  0.769000  0.008000  \n",
      "5  2.980000  0.008000  \n",
      "6  0.639000  0.008510  \n",
      "7  1.800000  0.011400  \n",
      "8  1.070000  0.008010  \n"
     ]
    }
   ],
   "source": [
    "# read csv file\n",
    "df = pd.read_csv('compiled_NP_params_225.csv')\n",
    "# show the first 5 rows\n",
    "print(df)"
   ]
  },
  {
   "cell_type": "code",
   "execution_count": 10,
   "id": "cef495df",
   "metadata": {},
   "outputs": [
    {
     "name": "stdout",
     "output_type": "stream",
     "text": [
      "['dry_bean', 'lettuce', 'peanut', 'rice', 'soybean', 'sweet_potato', 'tomato', 'wheat', 'white_potato']\n"
     ]
    }
   ],
   "source": [
    "crop_names = df['crop'].tolist()\n",
    "print(crop_names)"
   ]
  },
  {
   "cell_type": "code",
   "execution_count": 11,
   "id": "ced1e5a3",
   "metadata": {},
   "outputs": [
    {
     "name": "stdout",
     "output_type": "stream",
     "text": [
      "(9, 8)\n"
     ]
    }
   ],
   "source": [
    "# Drop the 'crop' column\n",
    "df_params = df.drop('crop', axis=1)\n",
    "# Convert DataFrame to NumPy array\n",
    "xfit = df_params.values\n",
    "# Print the NumPy array\n",
    "print(xfit.shape)"
   ]
  },
  {
   "cell_type": "markdown",
   "id": "4a7a09f1",
   "metadata": {},
   "source": [
    "Define lower - upper bounds for sensitivity"
   ]
  },
  {
   "cell_type": "code",
   "execution_count": 12,
   "id": "0081a014",
   "metadata": {},
   "outputs": [],
   "source": [
    "lower_bound = xfit * 0.8\n",
    "upper_bound = xfit * 1.2"
   ]
  },
  {
   "cell_type": "markdown",
   "id": "51dd1da2",
   "metadata": {},
   "source": [
    "Define the QoI function, here integral, below "
   ]
  },
  {
   "cell_type": "code",
   "execution_count": 13,
   "id": "91648803",
   "metadata": {},
   "outputs": [
    {
     "data": {
      "text/plain": [
       "array([[1.08577062e-02, 2.20932115e-01, 4.26128684e+00, 1.31944807e-02,\n",
       "        4.27478666e+01, 2.42081369e-01, 5.34293222e-01, 6.40000012e-03],\n",
       "       [1.16336949e-03, 1.93077902e-01, 5.58919971e+00, 6.61451291e-02,\n",
       "        3.03145464e+01, 8.79574072e-01, 5.51361862e-01, 6.40000000e-03],\n",
       "       [2.89185102e-03, 8.59586472e-02, 3.93505766e-01, 2.35620628e-01,\n",
       "        2.63441984e+01, 8.08726928e-02, 7.08900410e-01, 6.42067048e-03],\n",
       "       [8.00000000e-05, 7.52800000e-02, 1.15200000e+00, 8.96000000e-02,\n",
       "        4.06400000e+01, 4.97600000e-01, 7.68800000e-01, 9.36000000e-03],\n",
       "       [1.36000000e-02, 1.62400000e-01, 1.42400000e+00, 1.25600000e-02,\n",
       "        2.22400000e+01, 7.60000000e-02, 6.15200000e-01, 6.40000000e-03],\n",
       "       [8.00000000e-03, 7.96800000e-02, 1.59200000e-01, 2.27200000e-02,\n",
       "        5.96800000e+01, 8.48000000e-02, 2.38400000e+00, 6.40000000e-03],\n",
       "       [2.45600000e-03, 1.16800000e-01, 1.21600000e+00, 1.21600000e-01,\n",
       "        4.01600000e+01, 8.80000000e-02, 5.11200000e-01, 6.80800000e-03],\n",
       "       [1.32000000e-04, 1.60000000e-01, 4.14400000e-03, 1.20000000e-01,\n",
       "        3.60800000e+01, 6.24800000e-01, 1.44000000e+00, 9.12000000e-03],\n",
       "       [5.87200000e-03, 9.36000000e-02, 1.26400000e+00, 5.02400000e-02,\n",
       "        4.04000000e+01, 1.74400000e-01, 8.56000000e-01, 6.40800000e-03]])"
      ]
     },
     "execution_count": 13,
     "metadata": {},
     "output_type": "execute_result"
    }
   ],
   "source": [
    "lower_bound"
   ]
  },
  {
   "cell_type": "code",
   "execution_count": 14,
   "id": "68a8ff57",
   "metadata": {},
   "outputs": [],
   "source": [
    "def f_sens(x,cropname):\n",
    "    \"\"\"\n",
    "    For each parameter x, \n",
    "    get an integral of the curve over time\n",
    "    This is a representative scalar quantity\n",
    "    that reflects how the parameters x affect the dynamics \n",
    "    in an average sense\n",
    "    \"\"\"\n",
    "    tspan = np.arange(0, 30.05, 0.05)\n",
    "    conditions = np.array([525, 220])    \n",
    "    t_MEC, y_MEC, t_NP, y_NP = run_models(x,cropname, conditions)\n",
    "    integral = np.trapz(y_NP, t_NP)\n",
    "    #plt.plot(t_NP,y_NP,'-',alpha=k/10,linewidth=5)\n",
    "    return integral"
   ]
  },
  {
   "cell_type": "code",
   "execution_count": 15,
   "id": "de6ad4cc",
   "metadata": {},
   "outputs": [
    {
     "name": "stdout",
     "output_type": "stream",
     "text": [
      "Making samples for dry_bean\n",
      "Making samples for lettuce\n",
      "Making samples for peanut\n",
      "Making samples for rice\n",
      "Making samples for soybean\n",
      "Making samples for sweet_potato\n",
      "Making samples for tomato\n",
      "Making samples for wheat\n",
      "Making samples for white_potato\n"
     ]
    }
   ],
   "source": [
    "# Initialize\n",
    "Nsamples = 5000\n",
    "Nparams = 8\n",
    "Ncrops = 9\n",
    "Nqois = 1  # number of quantities of interest\n",
    "\n",
    "# Assuming 'lower_bound' and 'upper_bound' are your lower and upper bounds arrays\n",
    "inputs = np.empty((Nsamples, Nparams, Ncrops))\n",
    "outputs = np.empty((Nsamples, Nqois, Ncrops))\n",
    "\n",
    "# Loop over crops\n",
    "for i in range(Ncrops):\n",
    "    print(\"Making samples for\", crop_names[i])\n",
    "    # Sample values for each parameter\n",
    "    for j in range(Nparams):\n",
    "        inputs[:, j, i] = np.random.uniform(lower_bound[i, j], upper_bound[i, j], Nsamples)\n",
    "    # Compute the QoI\n",
    "    for k in range(Nsamples):\n",
    "        outputs[k, :, i] = f_sens(inputs[k, :, i], crop_names[i])\n"
   ]
  },
  {
   "cell_type": "code",
   "execution_count": 16,
   "id": "9f29e641",
   "metadata": {},
   "outputs": [],
   "source": [
    "import numpy as np\n",
    "\n",
    "# Thresholds\n",
    "E_dry_bean = 100\n",
    "E_lettuce = 100\n",
    "E_peanut = 100\n",
    "E_rice = 100\n",
    "E_soybean = 100\n",
    "E_sweet_potato = 100\n",
    "E_tomato = 100\n",
    "E_wheat = 100\n",
    "E_white_potato = 100\n",
    "\n",
    "# Assign inputs and outputs to individual arrays\n",
    "dry_bean_in = np.copy(inputs[:,:,0])\n",
    "dry_bean_out = np.copy(outputs[:,:,0])\n",
    "mask = dry_bean_out[:,0] > E_dry_bean\n",
    "dry_bean_in = dry_bean_in[mask]\n",
    "dry_bean_out = dry_bean_out[mask]\n",
    "\n",
    "lettuce_in = np.copy(inputs[:,:,1])\n",
    "lettuce_out = np.copy(outputs[:,:,1])\n",
    "mask = lettuce_out[:,0] > E_lettuce\n",
    "lettuce_in = lettuce_in[mask]\n",
    "lettuce_out = lettuce_out[mask]\n",
    "\n",
    "peanut_in = np.copy(inputs[:,:,2])\n",
    "peanut_out = np.copy(outputs[:,:,2])\n",
    "mask = peanut_out[:,0] > E_peanut\n",
    "peanut_in = peanut_in[mask]\n",
    "peanut_out = peanut_out[mask]\n",
    "\n",
    "rice_in = np.copy(inputs[:,:,3])\n",
    "rice_out = np.copy(outputs[:,:,3])\n",
    "mask = rice_out[:,0] > E_rice\n",
    "rice_in = rice_in[mask]\n",
    "rice_out = rice_out[mask]\n",
    "\n",
    "soybean_in = np.copy(inputs[:,:,4])\n",
    "soybean_out = np.copy(outputs[:,:,4])\n",
    "mask = soybean_out[:,0] > E_soybean\n",
    "soybean_in = soybean_in[mask]\n",
    "soybean_out = soybean_out[mask]\n",
    "\n",
    "sweet_potato_in = np.copy(inputs[:,:,5])\n",
    "sweet_potato_out = np.copy(outputs[:,:,5])\n",
    "mask = sweet_potato_out[:,0] > E_sweet_potato\n",
    "sweet_potato_in = sweet_potato_in[mask]\n",
    "sweet_potato_out = sweet_potato_out[mask]\n",
    "\n",
    "tomato_in = np.copy(inputs[:,:,6])\n",
    "tomato_out = np.copy(outputs[:,:,6])\n",
    "mask = tomato_out[:,0] > E_tomato\n",
    "tomato_in = tomato_in[mask]\n",
    "tomato_out = tomato_out[mask]\n",
    "\n",
    "wheat_in = np.copy(inputs[:,:,7])\n",
    "wheat_out = np.copy(outputs[:,:,7])\n",
    "mask = wheat_out[:,0] > E_wheat\n",
    "wheat_in = wheat_in[mask]\n",
    "wheat_out = wheat_out[mask]\n",
    "\n",
    "white_potato_in = np.copy(inputs[:,:,8])\n",
    "white_potato_out = np.copy(outputs[:,:,8])\n",
    "mask = white_potato_out[:,0] > E_white_potato\n",
    "white_potato_in = white_potato_in[mask]\n",
    "white_potato_out = white_potato_out[mask]\n"
   ]
  },
  {
   "cell_type": "code",
   "execution_count": 17,
   "id": "47752231",
   "metadata": {},
   "outputs": [],
   "source": [
    "from scipy.io import savemat\n",
    "# Save arrays to .mat files\n",
    "savemat('dry_bean_matrices.mat', {'matrix1': dry_bean_in, 'matrix2': dry_bean_out})\n",
    "savemat('lettuce_matrices.mat', {'matrix1': lettuce_in, 'matrix2': lettuce_out})\n",
    "savemat('peanut_matrices.mat', {'matrix1': peanut_in, 'matrix2': peanut_out})\n",
    "savemat('rice_matrices.mat', {'matrix1': rice_in, 'matrix2': rice_out})\n",
    "savemat('soybean_matrices.mat', {'matrix1': soybean_in, 'matrix2': soybean_out})\n",
    "savemat('sweet_potato_matrices.mat', {'matrix1': sweet_potato_in, 'matrix2': sweet_potato_out})\n",
    "savemat('tomato_matrices.mat', {'matrix1': tomato_in, 'matrix2': tomato_out})\n",
    "savemat('wheat_matrices.mat', {'matrix1': wheat_in, 'matrix2': wheat_out})\n",
    "savemat('white_potato_matrices.mat', {'matrix1': white_potato_in, 'matrix2': white_potato_out})"
   ]
  },
  {
   "cell_type": "markdown",
   "id": "592004f9-21d0-4ab5-be30-424faf30b21c",
   "metadata": {},
   "source": [
    "# Stop here and run the Borgonovo analysis in MATLAB"
   ]
  },
  {
   "cell_type": "code",
   "execution_count": null,
   "id": "8a9e6f87-84c7-4665-a68b-9955e93e362e",
   "metadata": {},
   "outputs": [],
   "source": []
  },
  {
   "cell_type": "markdown",
   "id": "004765d0-6bef-4c6a-acdf-956c3ba091bf",
   "metadata": {},
   "source": [
    "## Plot sensitivities"
   ]
  },
  {
   "cell_type": "code",
   "execution_count": 22,
   "id": "1705b3e5-d887-4a24-b772-6c39b98b9e12",
   "metadata": {},
   "outputs": [
    {
     "name": "stdout",
     "output_type": "stream",
     "text": [
      "dry_bean\n"
     ]
    },
    {
     "data": {
      "image/png": "[encoded data removed]",
      "text/plain": [
       "<Figure size 600x600 with 1 Axes>"
      ]
     },
     "metadata": {},
     "output_type": "display_data"
    },
    {
     "name": "stdout",
     "output_type": "stream",
     "text": [
      "lettuce\n"
     ]
    },
    {
     "data": {
      "image/png": "[encoded data removed]",
      "text/plain": [
       "<Figure size 600x600 with 1 Axes>"
      ]
     },
     "metadata": {},
     "output_type": "display_data"
    },
    {
     "name": "stdout",
     "output_type": "stream",
     "text": [
      "peanut\n"
     ]
    },
    {
     "data": {
      "image/png": "[encoded data removed]",
      "text/plain": [
       "<Figure size 600x600 with 1 Axes>"
      ]
     },
     "metadata": {},
     "output_type": "display_data"
    },
    {
     "name": "stdout",
     "output_type": "stream",
     "text": [
      "rice\n"
     ]
    },
    {
     "data": {
      "image/png": "[encoded data removed]",
      "text/plain": [
       "<Figure size 600x600 with 1 Axes>"
      ]
     },
     "metadata": {},
     "output_type": "display_data"
    },
    {
     "name": "stdout",
     "output_type": "stream",
     "text": [
      "soybean\n"
     ]
    },
    {
     "data": {
      "image/png": "[encoded data removed]",
      "text/plain": [
       "<Figure size 600x600 with 1 Axes>"
      ]
     },
     "metadata": {},
     "output_type": "display_data"
    },
    {
     "name": "stdout",
     "output_type": "stream",
     "text": [
      "sweet_potato\n"
     ]
    },
    {
     "data": {
      "image/png": "[encoded data removed]",
      "text/plain": [
       "<Figure size 600x600 with 1 Axes>"
      ]
     },
     "metadata": {},
     "output_type": "display_data"
    },
    {
     "name": "stdout",
     "output_type": "stream",
     "text": [
      "tomato\n"
     ]
    },
    {
     "data": {
      "image/png": "[encoded data removed]",
      "text/plain": [
       "<Figure size 600x600 with 1 Axes>"
      ]
     },
     "metadata": {},
     "output_type": "display_data"
    },
    {
     "name": "stdout",
     "output_type": "stream",
     "text": [
      "wheat\n"
     ]
    },
    {
     "data": {
      "image/png": "[encoded data removed]",
      "text/plain": [
       "<Figure size 600x600 with 1 Axes>"
      ]
     },
     "metadata": {},
     "output_type": "display_data"
    },
    {
     "name": "stdout",
     "output_type": "stream",
     "text": [
      "white_potato\n"
     ]
    },
    {
     "data": {
      "image/png": "[encoded data removed]",
      "text/plain": [
       "<Figure size 600x600 with 1 Axes>"
      ]
     },
     "metadata": {},
     "output_type": "display_data"
    }
   ],
   "source": [
    "import scipy.io as sio\n",
    "\n",
    "# DRAW_X_TICK = True\n",
    "# DRAW_Y_TICK = False\n",
    "\n",
    "crop_list = ['dry_bean', 'lettuce', 'peanut','rice','soybean','sweet_potato','tomato','wheat','white_potato']\n",
    "\n",
    "for i in range(len(crop_list)):\n",
    "    print(crop_list[i])\n",
    "    \n",
    "    mat_file = data_out_path + crop_list[i] + \"_sensitivity_results.mat\"\n",
    "    mat_colname = \"sensitivities\"\n",
    "    mat_contents = sio.loadmat(mat_file)\n",
    "    s_array = mat_contents[mat_colname].flatten()\n",
    "    \n",
    "    # Create a list of labels for the plot\n",
    "    # labels = ['$x_0$', '$x_1$', '$x_2$', '$x_3$', '$x_4$', '$x_5$', '$x_6$']\n",
    "    labels = [r\"$m_\\text{N0}$\", '$r$', '$K$', r'$\\alpha$', r'$\\eta_\\text{N} (b)$', r'$\\eta_\\text{N} (m)$', r'$\\mu_\\text{N} (b)$', r'$\\mu_\\text{N} (m)$']\n",
    "    \n",
    "    # Create the bar plot with black border\n",
    "    fig, ax = plt.subplots(figsize=(2,2))\n",
    "    ax.barh(labels, s_array, edgecolor='black')\n",
    "    \n",
    "    # # Add labels to the plot\n",
    "    # ax.set_xlabel('Sensitivity Index Value')\n",
    "    #ax.set_title('Sensitivity Indices')\n",
    "    # ax.set_ylabel('Parameter')\n",
    "    # from matplotlib.ticker import (MultipleLocator)\n",
    "    # ax.xaxis.set_major_locator(MultipleLocator(0.1))\n",
    "    # ax.xaxis.set_minor_locator(MultipleLocator(0.05))\n",
    "    ax.set_xlim(0,0.3)\n",
    "    \n",
    "    # if not DRAW_X_TICK: plt.xticks([]);\n",
    "    # if not DRAW_Y_TICK: plt.yticks([])\n",
    "    if crop_list[i] != \"dry_bean\" and crop_list[i] != \"sweet_potato\":\n",
    "        plt.yticks([])\n",
    "    \n",
    "    # plt.gca().axes.xaxis.set_ticklabels([])\n",
    "    plt.gca().invert_yaxis()\n",
    "    \n",
    "    plt.savefig(img_out_path + crop_list[i] + \"-sensitivity.png\", bbox_inches='tight', transparent=True)\n",
    "    \n",
    "    # # Show the plot\n",
    "    plt.show()"
   ]
  },
  {
   "cell_type": "code",
   "execution_count": null,
   "id": "3efd8f4c-abc3-422c-8432-90ea730d0025",
   "metadata": {},
   "outputs": [],
   "source": []
  }
 ],
 "metadata": {
  "kernelspec": {
   "display_name": "Python 3 (ipykernel)",
   "language": "python",
   "name": "python3"
  },
  "language_info": {
   "codemirror_mode": {
    "name": "ipython",
    "version": 3
   },
   "file_extension": ".py",
   "mimetype": "text/x-python",
   "name": "python",
   "nbconvert_exporter": "python",
   "pygments_lexer": "ipython3",
   "version": "3.11.5"
  }
 },
 "nbformat": 4,
 "nbformat_minor": 5
}
