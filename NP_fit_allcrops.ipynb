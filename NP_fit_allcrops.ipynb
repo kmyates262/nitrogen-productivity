{
 "cells": [
  {
   "cell_type": "markdown",
   "id": "84d4ec89-8b4b-4163-934f-cbd86f016516",
   "metadata": {},
   "source": [
    "# NITROGEN ACCOUNTANCY IN SPACE AGRICULTURE\n",
    "## NP fitting for all crops to MEC output\n",
    "---"
   ]
  },
  {
   "cell_type": "code",
   "execution_count": null,
   "id": "24361ff2",
   "metadata": {},
   "outputs": [],
   "source": [
    "import numpy as np\n",
    "import scipy.integrate as integrate\n",
    "import matplotlib.pyplot as plt\n",
    "\n",
    "from DU4 import *\n",
    "import time\n",
    "\n",
    "import matplotlib.style as style\n",
    "plt.rcParams.update(plt.rcParamsDefault)\n",
    "style.use('seaborn-v0_8-poster')\n",
    "plt.rcParams['figure.dpi'] = 300\n",
    "\n",
    "'''\n",
    "Spines & lines\n",
    "'''\n",
    "box_lw = 1\n",
    "mono_colr = 'k'\n",
    "plt.rcParams['axes.spines.bottom'] = True\n",
    "plt.rcParams['axes.spines.left'] = True\n",
    "plt.rcParams['axes.spines.right'] = False\n",
    "plt.rcParams['axes.spines.top'] = False\n",
    "plt.rcParams['axes.linewidth'] = box_lw\n",
    "plt.rcParams['xtick.major.width'] = box_lw\n",
    "plt.rcParams['ytick.major.width'] = box_lw\n",
    "'''\n",
    "Fonts & size\n",
    "'''\n",
    "plt_font_size = 8\n",
    "lgd_font_size = 8\n",
    "plt.rcParams['font.family'] = \"TeX Gyre Termes\"\n",
    "#plt.rc('font', **{'family' : 'sans-serif', 'sans-serif' : ['Myriad Pro']})\n",
    "plt.rcParams['font.size'] = plt_font_size\n",
    "plt.rcParams['axes.labelsize'] = plt_font_size\n",
    "plt.rcParams['axes.titlesize'] = plt_font_size\n",
    "plt.rcParams['xtick.labelsize'] = plt_font_size\n",
    "plt.rcParams['ytick.labelsize'] = plt_font_size\n",
    "plt.rcParams['xtick.major.pad'] = 2\n",
    "plt.rcParams['ytick.major.pad'] = 2\n",
    "plt.rcParams['legend.fontsize'] = lgd_font_size\n",
    "'''\n",
    "Plots\n",
    "'''\n",
    "plt.rcParams['lines.linewidth'] = 2\n",
    "plt.rcParams['lines.markeredgewidth'] = 3\n",
    "plt.rcParams['errorbar.capsize'] = 5\n",
    "'''\n",
    "Colours\n",
    "'''\n",
    "plt.rcParams['axes.titlecolor'] = mono_colr\n",
    "plt.rcParams['axes.edgecolor'] = mono_colr\n",
    "plt.rcParams['axes.labelcolor'] = mono_colr\n",
    "plt.rcParams['xtick.color'] = mono_colr\n",
    "plt.rcParams['xtick.labelcolor'] = mono_colr\n",
    "plt.rcParams['ytick.color'] = mono_colr\n",
    "plt.rcParams['ytick.labelcolor'] = mono_colr\n",
    "'''\n",
    "LaTeX\n",
    "'''\n",
    "plt.rcParams['text.usetex'] = True\n",
    "plt.rcParams['text.latex.preamble'] = '\\n'.join([\n",
    "    r'\\usepackage[T3,T1]{fontenc}',\n",
    "    r'\\DeclareSymbolFont{tipa}{T3}{cmr}{m}{n}',\n",
    "    r'\\DeclareMathAccent{\\invbreve}{\\mathalpha}{tipa}{16}',\n",
    "    r'\\usepackage{siunitx}',\n",
    "    r'\\DeclareSIUnit\\crewmember{CM}',\n",
    "    r'\\sisetup{range-units=single}',\n",
    "    r'\\sisetup{range-phrase=\\textup{--}}'\n",
    "])  # Preamble must be one line!"
   ]
  },
  {
   "cell_type": "code",
   "execution_count": null,
   "id": "3ceb6bf8-e66a-4347-9ae8-4ca45c67b5a7",
   "metadata": {},
   "outputs": [],
   "source": [
    "AX_NUM = True\n",
    "SHOW_LGD = False\n",
    "mec_colr = 'LimeGreen'\n",
    "np_colr = 'DodgerBlue'\n",
    "\n",
    "data_in_path = \"./zea-data/\"\n",
    "img_out_path = \"./NP-fits/\"\n",
    "data_out_path = \"./sens-mat/\"\n",
    "\n",
    "zea_cco2 = 525\n",
    "zea_ppfd = 225\n",
    "conditions = np.array([[zea_cco2,zea_ppfd]])  # conditions = np.array([[525, 225], [1200, 500]])\n",
    "crop_list = ['dry_bean', 'lettuce', 'peanut','rice','soybean','sweet_potato','tomato','wheat','white_potato']"
   ]
  },
  {
   "cell_type": "code",
   "execution_count": null,
   "id": "997aea22",
   "metadata": {},
   "outputs": [],
   "source": [
    "# For all, we take in c_CO2 and Phi_gamma because N uptake probably depends on them\n",
    "# Delta mB/Delta t = YN(t) * mN(t)\n",
    "\n",
    "def run_models(params, cropname, conds,exp_times=None):\n",
    "    \n",
    "    #print(params.shape)\n",
    "    def calc_eta_u(t, crop, c_CO2, Phi_gamma):\n",
    "        '''\n",
    "        N uptake performance, 1 = max\n",
    "        Could account for things like temp, pH\n",
    "        Assume max for now\n",
    "        Dimensionless\n",
    "        '''\n",
    "        return 1\n",
    "\n",
    "    def calc_mu_N(t, crop, c_CO2, Phi_gamma):\n",
    "        '''\n",
    "        seems to decrease over time\n",
    "        needs to depend on c_N where high or low c_N limits mu_N\n",
    "        could measure by mu_N = [ln(m_N(t2)) - ln(m_N(t1))] / (t2 - t1)\n",
    "        linear fit from Normal N\n",
    "        units of day^-1\n",
    "        '''\n",
    "        mu_N = -params[7] * t + params[6]\n",
    "        return mu_N\n",
    "\n",
    "    def calc_eta_N(t, crop, c_CO2, Phi_gamma):\n",
    "        '''\n",
    "        amount of plant you get per amount of N over time step\n",
    "        eta_N = m_B / <m_N>\n",
    "        can approach zero, but should not become negative\n",
    "        dimensionless, but g_DW / g_N\n",
    "        '''\n",
    "        eta_N = -params[5]*t + params[4] \n",
    "        return eta_N\n",
    "\n",
    "    def calc_m_N(t, crop, c_CO2, Phi_gamma):\n",
    "        '''\n",
    "        m_N0 unit: g\n",
    "        K unit: g\n",
    "        r unit: day^-1\n",
    "        m_N unit: g\n",
    "        '''\n",
    "        m_N0 = params[0] # estimate from data using N percentage in biomass\n",
    "        r = params[1] # could change based on N in nutrient solution\n",
    "        K = params[2]\n",
    "        alpha = params[3] # corrective term\n",
    "        m_N = alpha * (m_N0 * K * np.exp(r * t)) / ((K - m_N0) + m_N0 * np.exp(r * t))  # huger guess\n",
    "        return m_N\n",
    "\n",
    "    def calc_Y_N(t, crop, c_CO2, Phi_gamma):\n",
    "        Y_N = calc_eta_u(t, crop, c_CO2, Phi_gamma) * calc_mu_N(t, crop, c_CO2, Phi_gamma) * calc_eta_N(t, crop, c_CO2, Phi_gamma)\n",
    "        return Y_N\n",
    "\n",
    "    def calc_m_B_NP(t, crop, c_CO2, Phi_gamma):\n",
    "        return calc_Y_N(t,crop,c_CO2,Phi_gamma) * calc_m_N(t,crop,c_CO2,Phi_gamma)\n",
    "\n",
    "    def NP_model(t, y, crop, c_CO2, Phi_gamma):\n",
    "        Neq = len(y)\n",
    "\n",
    "        ## Prepare dydt array\n",
    "        dydt = np.zeros((1, Neq))\n",
    "\n",
    "        ## Define dydt\n",
    "        dydt[0, 0] = calc_m_B_NP(t, crop, c_CO2, Phi_gamma)\n",
    "\n",
    "        return [np.transpose(dydt)]\n",
    "  \n",
    "    ## Define directory and locations\n",
    "    directory = 'parameter-lists/'\n",
    "    filename = 'crop_parameters_FPSD.xlsx'\n",
    "\n",
    "    ## Load standard parameters from BVAD\n",
    "    filename_full = directory + filename\n",
    "    \n",
    "    crop_type = cropname\n",
    "    crop = Crop(crop_type, filename_full=filename_full)\n",
    "    endtime = crop.t_M\n",
    "    tspan = [0, endtime]\n",
    "    if len(exp_times) == 0:\n",
    "        t_eval = np.arange(0, endtime+1, 1) #Where do we want the solution\n",
    "    else:\n",
    "        t_eval = exp_times.reshape(-1,)\n",
    "    y0 = [0,0,50]\n",
    "    c_CO2 = conds[0]\n",
    "    Phi_gamma = conds[1]\n",
    "\n",
    "    sigma_N = crop.sigma_N\n",
    "    f_E = crop.f_E\n",
    "\n",
    "    sol_NP = integrate.solve_ivp(NP_model, tspan, y0, args=(cropname,c_CO2,Phi_gamma), method='LSODA', t_eval=t_eval)\n",
    "    sol_NP.y[0] = sol_NP.y[0] * sigma_N # need to go from single plant to areal basis; by default NP is per plant\n",
    "\n",
    "    # Put MEC on top of it\n",
    "    def mec_model(t, y, crop, CO2, PPF):\n",
    "        Neq = len(y)\n",
    "\n",
    "        ## Prepare dydt array\n",
    "        dydt = np.zeros((1, Neq))\n",
    "\n",
    "        ## Define dydt\n",
    "        dydt[0, 0] = calc_m_B(t, crop, CO2, PPF)\n",
    "\n",
    "        return [np.transpose(dydt)]\n",
    "\n",
    "    ## Perform integration\n",
    "    start_time = time.time()\n",
    "    sol_MEC = integrate.solve_ivp(mec_model, tspan, y0, args=(crop,c_CO2,Phi_gamma), method='LSODA', t_eval=t_eval)\n",
    "\n",
    "    #plt.plot(sol_MEC.t, sol_MEC.y[0], linewidth=4, color = 'g', ls='--', label=\"MEC prediction\")\n",
    "    #plt.legend()\n",
    "    #plt.show()\n",
    "\n",
    "    # show function values over time\n",
    "    f=np.zeros((50,1))\n",
    "    g=np.zeros((50,1))\n",
    "    h=np.zeros((50,1))\n",
    "    j=np.zeros((50,1))\n",
    "\n",
    "    for i in range(0,50):\n",
    "        f[i] = calc_mu_N(i, crop, c_CO2, Phi_gamma)\n",
    "        g[i] = calc_m_N(i, crop, c_CO2, Phi_gamma)\n",
    "        h[i] = calc_Y_N(i, crop, c_CO2, Phi_gamma)\n",
    "        j[i] = calc_eta_N(i, crop, c_CO2, Phi_gamma)\n",
    "\n",
    "    #plt.plot(np.arange(0,50), f, label=\"$\\mu_N$\")\n",
    "    #plt.plot(np.arange(0,50), g, label=\"$m_N$\")\n",
    "    #plt.plot(np.arange(0,50), h, label=\"$\\dot{Y}_N$\")\n",
    "    #plt.plot(np.arange(0,50), j, label=\"$\\eta_N$\")\n",
    "    #plt.legend()\n",
    "    \n",
    "    return sol_MEC.t, sol_MEC.y[0], sol_NP.t, sol_NP.y[0]"
   ]
  },
  {
   "cell_type": "markdown",
   "id": "f46ced78",
   "metadata": {},
   "source": [
    "### Define the fitting function"
   ]
  },
  {
   "cell_type": "code",
   "execution_count": null,
   "id": "14dfc07f",
   "metadata": {},
   "outputs": [],
   "source": [
    "def objective_function(x,cropname,conds,print_flag):\n",
    "    \"\"\"\n",
    "    Fitting function to be minimized in order to compare\n",
    "    MEC and NP\n",
    "    x:Model parameters\n",
    "    print_flag : whether to plot predictions or not\n",
    "    we dont need to see all the plots but it helps visualize \n",
    "    \"\"\"\n",
    "    t_MEC, y_MEC, t_NP, y_NP = run_models(x,cropname,conds,[])\n",
    "\n",
    "    if print_flag:\n",
    "        pltargs = {'alpha': 1, 'lw': 2.5, 'dashes':[2.5, 1]}\n",
    "        plt.figure(figsize=(2,2))\n",
    "        plt.plot(t_MEC, y_MEC, label='MEC Model', c=mec_colr, **pltargs)\n",
    "        plt.plot(t_NP, y_NP, label='NP Model', c=np_colr, alpha=1, zorder=99, lw=1)\n",
    "        \n",
    "        # if not AX_NUM: plt.xticks([]); plt.yticks([])\n",
    "        # axes setup for figure 5\n",
    "        if cropname == \"dry_bean\" or cropname == \"sweet_potato\":\n",
    "            plt.ylabel(r\"$\\invbreve{m}_\\text{T}\\ [\\si{\\gram\\of{DW}\\per\\meter\\squared}]$\")\n",
    "\n",
    "        if cropname == \"wheat\":\n",
    "            plt.yticks(np.arange(0,600,150))\n",
    "\n",
    "        if SHOW_LGD: plt.legend()\n",
    "            \n",
    "        plt.savefig(img_out_path + cropname + \"_co2-\" + str(conds[0]) + \"_ppfd-\" + str(conds[1]) + \"_NP-fit.png\", bbox_inches='tight', transparent=True)\n",
    "        plt.show()\n",
    "\n",
    "    a = y_MEC\n",
    "    b = y_NP\n",
    "    diff = np.abs(a - b) \n",
    "    norm = np.linalg.norm(diff, ord=2)\n",
    "    return norm\n"
   ]
  },
  {
   "cell_type": "code",
   "execution_count": null,
   "id": "1cb8c512",
   "metadata": {},
   "outputs": [],
   "source": [
    "from scipy.optimize import minimize"
   ]
  },
  {
   "cell_type": "code",
   "execution_count": null,
   "id": "d5a6cb42",
   "metadata": {},
   "outputs": [],
   "source": [
    "len(crop_list)"
   ]
  },
  {
   "cell_type": "markdown",
   "id": "3bce6f7e",
   "metadata": {},
   "source": [
    "### This part takes as input some crop and the conditions, and gives back the fitted parameters\n",
    "### so that the MEC and NP match"
   ]
  },
  {
   "cell_type": "code",
   "execution_count": null,
   "id": "4565ab07",
   "metadata": {
    "scrolled": true,
    "tags": []
   },
   "outputs": [],
   "source": [
    "def mec_np_fit(crop,conds):\n",
    "    print(\"Fitting for\", crop,\"and conditions\",conds)\n",
    "    #The nominal parameters - Defined by Kevin\n",
    "    x_nom = np.array([0.0017, 0.225, 7,0.085,38.0, 0.95,0.7,0.01])\n",
    "    f_ev = objective_function(x_nom,crop,conds,True) #evaluate the error based on nominal parameters\n",
    "    print(f_ev)\n",
    "    ls = 0.1 #Multiplier for lower bound\n",
    "    us = 10.0 #Multiplier for upper bound\n",
    "\n",
    "    if crop == \"dry_bean\":\n",
    "        x0 = [0.0017, 0.2, 7 ,0.085,38.0, 0.95,0.7,0.01]  # dry bean\n",
    "    elif crop == \"peanut\":\n",
    "        x0 = [0.002, 0.1, 0.50, 0.3, 33, 0.1, 0.9, 0.01]  # peanut\n",
    "    elif crop == \"tomato\":\n",
    "        x0 = [0.0017, 0.225, 2.0, 0.085, 38.0, 0.95, 0.7, 0.01]  # tomato\n",
    "    elif crop == \"rice\":\n",
    "        x0 = [0.00017, 0.1, 1.5, 0.085, 50, 0.7, 0.7, 0.01]  # rice\n",
    "        # x0 = [0.0017, 0.225, 1.0 ,0.085,38.0, 0.95,0.7,0.01]  # rice\n",
    "    elif crop == \"soybean\":\n",
    "        x0 = [0.0017, 0.35, 2.5 ,0.085,38.0, 0.95,0.7,0.01]  # soybean\n",
    "    elif crop == \"sweet_potato\":\n",
    "        x0 = [0.01, 0.1, 0.2, 0.03, 75, 0.1, 3, 0.01]  # sweet potato\n",
    "    elif crop == \"wheat\":\n",
    "        x0 = [0.0002, 0.2, 0.01, 0.15, 45.0, 0.8, 1.8, 0.01]  # wheat\n",
    "    elif crop == \"white_potato\":\n",
    "        x0 = [0.0017, 0.2, 1.5, 0.06, 50.0, 0.25, 1, 0.01]  # white potato\n",
    "    else:\n",
    "        x0 = [0.0017, 0.225, 7.0 ,0.085,38.0, 0.95,0.7,0.01]  # initial guess for the decision variables\n",
    "    \n",
    "    bounds = [(x0[0]*ls,x0[0]*us ), (x0[1]*ls,x0[1]*us ), ((x0[2]*ls,x0[2]*us )),\n",
    "              (x0[3]*ls,x0[3]*us ),(x0[4]*ls,x0[4]*us ),(x0[5]*ls,x0[5]*us ),\n",
    "             (x0[6]*ls,x0[6]*us ), (x0[7]*0.8,x0[7]*1.2)]  # bounds on the decision variables\n",
    "    options = {'disp': False}\n",
    "    result = minimize(objective_function, x0, args=(crop,conds,False) , bounds=bounds,options=options)\n",
    "    f_ev = objective_function(result.x,crop,conds,True) #Re-evaluate based on optimal values \n",
    "    \n",
    "    return result"
   ]
  },
  {
   "cell_type": "markdown",
   "id": "e2021025-11ff-40ef-92cf-46c340f2e01f",
   "metadata": {},
   "source": [
    "### Initialize xfit to hold all results"
   ]
  },
  {
   "cell_type": "code",
   "execution_count": null,
   "id": "98ab582e",
   "metadata": {},
   "outputs": [],
   "source": [
    "xfit = np.zeros((8,len(crop_list),conditions.shape[0]))"
   ]
  },
  {
   "cell_type": "markdown",
   "id": "2df92316-7ec3-4a11-a375-8e8260e206ae",
   "metadata": {},
   "source": [
    "### Change cell type to Code to run. This will take a while. "
   ]
  },
  {
   "cell_type": "raw",
   "id": "7c92cc3b-acc6-42cd-8fc5-eaab9f2aa7cc",
   "metadata": {
    "scrolled": true,
    "tags": []
   },
   "source": [
    "## Loop over conditions and  crops to fit parameters\n",
    "for j in range(conditions.shape[0]):\n",
    "    for i in range(len(crop_list)):\n",
    "        optim_res = mec_np_fit(crop_list[i],conditions[j])\n",
    "        xfit[:,i,j] = optim_res.x"
   ]
  },
  {
   "cell_type": "markdown",
   "id": "d2c7b563",
   "metadata": {},
   "source": [
    "We fit in total 8 parameters. So the xfit has the fitted parameters \n",
    "for all crops (9) and each set of conditions"
   ]
  },
  {
   "cell_type": "code",
   "execution_count": null,
   "id": "4e353ee2",
   "metadata": {},
   "outputs": [],
   "source": [
    "xfit.shape"
   ]
  },
  {
   "cell_type": "code",
   "execution_count": null,
   "id": "6453057a",
   "metadata": {},
   "outputs": [],
   "source": [
    "crop_list"
   ]
  },
  {
   "cell_type": "code",
   "execution_count": null,
   "id": "ae518438",
   "metadata": {},
   "outputs": [],
   "source": [
    "conditions"
   ]
  },
  {
   "cell_type": "code",
   "execution_count": null,
   "id": "637ae41e-a864-4765-832a-f24669c3ad59",
   "metadata": {},
   "outputs": [],
   "source": [
    "xfit[:,i,0]\n",
    "# xfit[:,0,1]"
   ]
  },
  {
   "cell_type": "markdown",
   "id": "718f0a14",
   "metadata": {},
   "source": [
    "### Get parameters and visualize for each crop and each condition\n",
    "I am using the objective function plot to visualize. Feel free to change colors"
   ]
  },
  {
   "cell_type": "markdown",
   "id": "562821d7-2517-4b99-b1c2-42e0a9783f70",
   "metadata": {
    "tags": []
   },
   "source": [
    "### Plot one crop without re-fitting"
   ]
  },
  {
   "cell_type": "code",
   "execution_count": null,
   "id": "7b4f38ca",
   "metadata": {},
   "outputs": [],
   "source": [
    "#i: 2 corresponds to peanut, etc.\n",
    "\n",
    "i = 7\n",
    "crop_index = i\n",
    "print(crop_list[i])\n",
    "conditions_index = 0 #conditions set 1\n",
    "error = objective_function(xfit[:,crop_index,conditions_index],crop_list[crop_index], conditions[conditions_index],print_flag=True)"
   ]
  },
  {
   "cell_type": "markdown",
   "id": "20434cf3-eea9-4299-8b9e-166266afecea",
   "metadata": {},
   "source": [
    "### Plot all crops without re-fitting"
   ]
  },
  {
   "cell_type": "code",
   "execution_count": null,
   "id": "497e63cb-92fe-4c1a-ab8c-a67ca8345de2",
   "metadata": {
    "scrolled": true,
    "tags": []
   },
   "outputs": [],
   "source": [
    "for i in range(0,len(crop_list)):\n",
    "    print(crop_list[i])\n",
    "    error = objective_function(xfit[:,i,conditions_index],crop_list[i], conditions[conditions_index],print_flag=True)"
   ]
  },
  {
   "cell_type": "markdown",
   "id": "04dbe37a",
   "metadata": {},
   "source": [
    "# Generate sensitivity matrices"
   ]
  },
  {
   "cell_type": "code",
   "execution_count": null,
   "id": "8cfebfce-4c9d-4738-95de-a86db8b5a44b",
   "metadata": {},
   "outputs": [],
   "source": [
    "# read csv file\n",
    "NP_df = pd.read_csv(data_in_path + 'compiled_NP_params_225.csv')\n",
    "# show the first 5 rows\n",
    "print(NP_df)"
   ]
  },
  {
   "cell_type": "code",
   "execution_count": null,
   "id": "daf23cb1-e679-4c21-bfc1-7c12fbe5d3ee",
   "metadata": {},
   "outputs": [],
   "source": [
    "# Drop the 'crop' column\n",
    "NP_df_params = NP_df.drop('crop', axis=1)\n",
    "# Convert DataFrame to NumPy array\n",
    "xfit = NP_df_params.values\n",
    "# Print the NumPy array\n",
    "print(xfit.shape)"
   ]
  },
  {
   "cell_type": "markdown",
   "id": "3115a7fe",
   "metadata": {},
   "source": [
    "### Define lower - upper bounds for sensitivity"
   ]
  },
  {
   "cell_type": "code",
   "execution_count": null,
   "id": "0cbec130-dfe9-4fc2-aa32-ee165f042bd9",
   "metadata": {},
   "outputs": [],
   "source": [
    "lower_bound = xfit * 0.8\n",
    "upper_bound = xfit * 1.2"
   ]
  },
  {
   "cell_type": "markdown",
   "id": "48effc4d",
   "metadata": {},
   "source": [
    "### Define the QoI function, here integral, below "
   ]
  },
  {
   "cell_type": "code",
   "execution_count": null,
   "id": "705250e1-2c68-4a48-8e52-204a4f143798",
   "metadata": {},
   "outputs": [],
   "source": [
    "lower_bound"
   ]
  },
  {
   "cell_type": "code",
   "execution_count": null,
   "id": "e797dc0f-f970-4db7-b911-9f6cad1ad7f9",
   "metadata": {},
   "outputs": [],
   "source": [
    "def f_sens(x,cropname):\n",
    "    \"\"\"\n",
    "    For each parameter x, \n",
    "    get an integral of the curve over time\n",
    "    This is a representative scalar quantity\n",
    "    that reflects how the parameters x affect the dynamics \n",
    "    in an average sense\n",
    "    \"\"\"\n",
    "    tspan = np.arange(0, 30.05, 0.05)\n",
    "    conditions = np.array([525, 225])    \n",
    "    t_MEC, y_MEC, t_NP, y_NP = run_models(x,cropname, conditions,[])\n",
    "    integral = np.trapz(y_NP, t_NP)\n",
    "    #plt.plot(t_NP,y_NP,'-',alpha=k/10,linewidth=5)\n",
    "    return integral"
   ]
  },
  {
   "cell_type": "markdown",
   "id": "7822c79d-9c5f-482e-a9b8-bcebe84b0753",
   "metadata": {},
   "source": [
    "### Change cell type to Code to run. This will take a while. "
   ]
  },
  {
   "cell_type": "raw",
   "id": "d03c37d4-622b-4781-adad-3eb95b048b4a",
   "metadata": {},
   "source": [
    "# Initialize\n",
    "Nsamples = 5000\n",
    "Nparams = 8\n",
    "Ncrops = 9\n",
    "Nqois = 1  # number of quantities of interest\n",
    "\n",
    "# Assuming 'lower_bound' and 'upper_bound' are your lower and upper bounds arrays\n",
    "inputs = np.empty((Nsamples, Nparams, Ncrops))\n",
    "outputs = np.empty((Nsamples, Nqois, Ncrops))\n",
    "\n",
    "# Loop over crops\n",
    "for i in range(Ncrops):\n",
    "    print(\"Making samples for\", crop_list[i])\n",
    "    # Sample values for each parameter\n",
    "    for j in range(Nparams):\n",
    "        inputs[:, j, i] = np.random.uniform(lower_bound[i, j], upper_bound[i, j], Nsamples)\n",
    "    # Compute the QoI\n",
    "    for k in range(Nsamples):\n",
    "        outputs[k, :, i] = f_sens(inputs[k, :, i], crop_list[i])\n"
   ]
  },
  {
   "cell_type": "code",
   "execution_count": null,
   "id": "cdec0fa4",
   "metadata": {},
   "outputs": [],
   "source": [
    "import numpy as np\n",
    "\n",
    "# Thresholds\n",
    "E_dry_bean = 100\n",
    "E_lettuce = 100\n",
    "E_peanut = 100\n",
    "E_rice = 100\n",
    "E_soybean = 100\n",
    "E_sweet_potato = 100\n",
    "E_tomato = 100\n",
    "E_wheat = 100\n",
    "E_white_potato = 100\n",
    "\n",
    "# Assign inputs and outputs to individual arrays\n",
    "dry_bean_in = np.copy(inputs[:,:,0])\n",
    "dry_bean_out = np.copy(outputs[:,:,0])\n",
    "mask = dry_bean_out[:,0] > E_dry_bean\n",
    "dry_bean_in = dry_bean_in[mask]\n",
    "dry_bean_out = dry_bean_out[mask]\n",
    "\n",
    "lettuce_in = np.copy(inputs[:,:,1])\n",
    "lettuce_out = np.copy(outputs[:,:,1])\n",
    "mask = lettuce_out[:,0] > E_lettuce\n",
    "lettuce_in = lettuce_in[mask]\n",
    "lettuce_out = lettuce_out[mask]\n",
    "\n",
    "peanut_in = np.copy(inputs[:,:,2])\n",
    "peanut_out = np.copy(outputs[:,:,2])\n",
    "mask = peanut_out[:,0] > E_peanut\n",
    "peanut_in = peanut_in[mask]\n",
    "peanut_out = peanut_out[mask]\n",
    "\n",
    "rice_in = np.copy(inputs[:,:,3])\n",
    "rice_out = np.copy(outputs[:,:,3])\n",
    "mask = rice_out[:,0] > E_rice\n",
    "rice_in = rice_in[mask]\n",
    "rice_out = rice_out[mask]\n",
    "\n",
    "soybean_in = np.copy(inputs[:,:,4])\n",
    "soybean_out = np.copy(outputs[:,:,4])\n",
    "mask = soybean_out[:,0] > E_soybean\n",
    "soybean_in = soybean_in[mask]\n",
    "soybean_out = soybean_out[mask]\n",
    "\n",
    "sweet_potato_in = np.copy(inputs[:,:,5])\n",
    "sweet_potato_out = np.copy(outputs[:,:,5])\n",
    "mask = sweet_potato_out[:,0] > E_sweet_potato\n",
    "sweet_potato_in = sweet_potato_in[mask]\n",
    "sweet_potato_out = sweet_potato_out[mask]\n",
    "\n",
    "tomato_in = np.copy(inputs[:,:,6])\n",
    "tomato_out = np.copy(outputs[:,:,6])\n",
    "mask = tomato_out[:,0] > E_tomato\n",
    "tomato_in = tomato_in[mask]\n",
    "tomato_out = tomato_out[mask]\n",
    "\n",
    "wheat_in = np.copy(inputs[:,:,7])\n",
    "wheat_out = np.copy(outputs[:,:,7])\n",
    "mask = wheat_out[:,0] > E_wheat\n",
    "wheat_in = wheat_in[mask]\n",
    "wheat_out = wheat_out[mask]\n",
    "\n",
    "white_potato_in = np.copy(inputs[:,:,8])\n",
    "white_potato_out = np.copy(outputs[:,:,8])\n",
    "mask = white_potato_out[:,0] > E_white_potato\n",
    "white_potato_in = white_potato_in[mask]\n",
    "white_potato_out = white_potato_out[mask]"
   ]
  },
  {
   "cell_type": "code",
   "execution_count": null,
   "id": "d8c38a2f",
   "metadata": {},
   "outputs": [],
   "source": [
    "from scipy.io import savemat\n",
    "# Save arrays to .mat files\n",
    "savemat(data_out_path + 'dry_bean_matrices.mat', {'matrix1': dry_bean_in, 'matrix2': dry_bean_out})\n",
    "savemat(data_out_path + 'lettuce_matrices.mat', {'matrix1': lettuce_in, 'matrix2': lettuce_out})\n",
    "savemat(data_out_path + 'peanut_matrices.mat', {'matrix1': peanut_in, 'matrix2': peanut_out})\n",
    "savemat(data_out_path + 'rice_matrices.mat', {'matrix1': rice_in, 'matrix2': rice_out})\n",
    "savemat(data_out_path + 'soybean_matrices.mat', {'matrix1': soybean_in, 'matrix2': soybean_out})\n",
    "savemat(data_out_path + 'sweet_potato_matrices.mat', {'matrix1': sweet_potato_in, 'matrix2': sweet_potato_out})\n",
    "savemat(data_out_path + 'tomato_matrices.mat', {'matrix1': tomato_in, 'matrix2': tomato_out})\n",
    "savemat(data_out_path + 'wheat_matrices.mat', {'matrix1': wheat_in, 'matrix2': wheat_out})\n",
    "savemat(data_out_path + 'white_potato_matrices.mat', {'matrix1': white_potato_in, 'matrix2': white_potato_out})"
   ]
  },
  {
   "cell_type": "markdown",
   "id": "59f2ae36",
   "metadata": {},
   "source": [
    "### At this point, you have to process the .mat files with the MATLAB script"
   ]
  },
  {
   "cell_type": "markdown",
   "id": "6a5e6d07-56fa-4a34-859a-547aa1aeaaa6",
   "metadata": {},
   "source": [
    "# Load saved data and plot it"
   ]
  },
  {
   "cell_type": "markdown",
   "id": "28fab9a9-fc0a-4fe9-8a6f-837b3541ac8a",
   "metadata": {},
   "source": [
    "## Plot from NP params file\n",
    "* This file was manually compiled by KY"
   ]
  },
  {
   "cell_type": "code",
   "execution_count": null,
   "id": "556bde68-021c-4056-9253-78d6d9c48246",
   "metadata": {
    "scrolled": true
   },
   "outputs": [],
   "source": [
    "df = pd.read_csv(data_in_path + 'compiled_NP_params_225.csv')\n",
    "crop_index = 0\n",
    "conditions_index = 0 #conditions set 1\n",
    "for crop_index in range(0,9):\n",
    "    print(crop_list[crop_index])\n",
    "    crop_np_params = df.iloc[crop_index,1:].to_numpy()\n",
    "    error = objective_function(crop_np_params,crop_list[crop_index], conditions[conditions_index],print_flag=True)"
   ]
  },
  {
   "cell_type": "markdown",
   "id": "5ff03b6c-e3d7-4395-9807-a4f5078d3424",
   "metadata": {},
   "source": [
    "## plot sensitivities from files"
   ]
  },
  {
   "cell_type": "code",
   "execution_count": null,
   "id": "66cb3cbc-0097-44c2-bf1f-7448186f95e6",
   "metadata": {
    "scrolled": true
   },
   "outputs": [],
   "source": [
    "import scipy.io as sio\n",
    "\n",
    "# DRAW_X_TICK = True\n",
    "# DRAW_Y_TICK = False\n",
    "\n",
    "crop_list = ['dry_bean', 'lettuce', 'peanut','rice','soybean','sweet_potato','tomato','wheat','white_potato']\n",
    "\n",
    "for i in range(len(crop_list)):\n",
    "    print(crop_list[i])\n",
    "    \n",
    "    mat_file = data_out_path + crop_list[i] + \"_sensitivity_results.mat\"\n",
    "    mat_colname = \"sensitivities\"\n",
    "    mat_contents = sio.loadmat(mat_file)\n",
    "    s_array = mat_contents[mat_colname].flatten()\n",
    "    \n",
    "    # Create a list of labels for the plot\n",
    "    # labels = ['$x_0$', '$x_1$', '$x_2$', '$x_3$', '$x_4$', '$x_5$', '$x_6$']\n",
    "    labels = [r\"$m_\\text{N0}$\", '$r$', '$K$', r'$\\alpha$', r'$\\eta_\\text{N} (b)$', r'$\\eta_\\text{N} (m)$', r'$\\mu_\\text{N} (b)$', r'$\\mu_\\text{N} (m)$']\n",
    "    \n",
    "    # Create the bar plot with black border\n",
    "    fig, ax = plt.subplots(figsize=(2,2))\n",
    "    ax.barh(labels, s_array, edgecolor='black')\n",
    "    \n",
    "    # # Add labels to the plot\n",
    "    # ax.set_xlabel('Sensitivity Index Value')\n",
    "    #ax.set_title('Sensitivity Indices')\n",
    "    # ax.set_ylabel('Parameter')\n",
    "    # from matplotlib.ticker import (MultipleLocator)\n",
    "    # ax.xaxis.set_major_locator(MultipleLocator(0.1))\n",
    "    # ax.xaxis.set_minor_locator(MultipleLocator(0.05))\n",
    "    ax.set_xlim(0,0.3)\n",
    "    \n",
    "    # if not DRAW_X_TICK: plt.xticks([]);\n",
    "    # if not DRAW_Y_TICK: plt.yticks([])\n",
    "    if crop_list[i] != \"dry_bean\" and crop_list[i] != \"sweet_potato\":\n",
    "        plt.yticks([])\n",
    "    \n",
    "    # plt.gca().axes.xaxis.set_ticklabels([])\n",
    "    plt.gca().invert_yaxis()\n",
    "    \n",
    "    plt.savefig(img_out_path + crop_list[i] + \"-sensitivity.png\", bbox_inches='tight', transparent=True)\n",
    "    \n",
    "    # # Show the plot\n",
    "    plt.show()"
   ]
  },
  {
   "cell_type": "code",
   "execution_count": null,
   "id": "11b25bdf",
   "metadata": {},
   "outputs": [],
   "source": []
  }
 ],
 "metadata": {
  "kernelspec": {
   "display_name": "Python 3 (ipykernel)",
   "language": "python",
   "name": "python3"
  },
  "language_info": {
   "codemirror_mode": {
    "name": "ipython",
    "version": 3
   },
   "file_extension": ".py",
   "mimetype": "text/x-python",
   "name": "python",
   "nbconvert_exporter": "python",
   "pygments_lexer": "ipython3",
   "version": "3.11.8"
  }
 },
 "nbformat": 4,
 "nbformat_minor": 5
}
